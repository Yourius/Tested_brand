{
  "nbformat": 4,
  "nbformat_minor": 0,
  "metadata": {
    "colab": {
      "provenance": [],
      "collapsed_sections": []
    },
    "kernelspec": {
      "name": "python3",
      "display_name": "Python 3"
    },
    "language_info": {
      "name": "python"
    }
  },
  "cells": [
    {
      "cell_type": "markdown",
      "source": [
        "https://drive.google.com/file/d/1hj7HyOolwjspJlsr0PWsSwEtUpTAU6rA/view?usp=sharing"
      ],
      "metadata": {
        "id": "Y3GjmqyIiEyT"
      }
    },
    {
      "cell_type": "markdown",
      "source": [
        "# Tested brand "
      ],
      "metadata": {
        "id": "t54SvxjEwvDZ"
      }
    },
    {
      "cell_type": "markdown",
      "source": [
        "_Mission:_\n",
        "\n",
        "Your mission is to provide a recommendation to the Tested brand team that will allow them to maximize sales. To do this you have to answer several questions from steps 1 – 4 below for each experiment and generate the tables with resulting numbers according to the given templates in a template file. \n",
        "\n",
        "_Background:_\n",
        "\n",
        "The team of “Tested brand\" is testing two different price options for a Product “Tested brand Smart WIFI Plug In Scented Oil Starter Kit, 1 Warmer + 2 Refills – Fresh Linen”. The client’s objective is to understand price optimizing sales. \n",
        " \n",
        "_Options tested:_ \n",
        "- Experiment 1 - Price 19.99: In this experiment, the tested product’s price is $19.99 that is lower than in the second experience. \n",
        "\n",
        "- Experiment 2 - Price 23.99: In this experiment, the tested product’s price is $23.99. \n",
        "\n",
        "_Files_\n",
        "- log_file.csv — a log file in CSV format containing the list of actions performed by our test users on the platform; \n",
        "- profiles.csv — a profiles file in CSV format containing a description of the respondents’ profiles; \n",
        "- fields_explanation.pdf — a file with a description of the main fields; \n",
        "- template_tables.xlsx — a template file with the table structure that should be generated. \n",
        "  "
      ],
      "metadata": {
        "id": "4xKfMRpkIjHF"
      }
    },
    {
      "cell_type": "code",
      "source": [
        "! gdown -- 1hj7HyOolwjspJlsr0PWsSwEtUpTAU6rA\n"
      ],
      "metadata": {
        "colab": {
          "base_uri": "https://localhost:8080/"
        },
        "id": "XdeKBZuUiNQi",
        "outputId": "d3a81ccc-a176-4902-cfee-460186e6612e"
      },
      "execution_count": 342,
      "outputs": [
        {
          "output_type": "stream",
          "name": "stdout",
          "text": [
            "Downloading...\n",
            "From: https://drive.google.com/uc?id=1hj7HyOolwjspJlsr0PWsSwEtUpTAU6rA\n",
            "To: /content/drive-download-20220809T184218Z-001.zip\n",
            "\r  0% 0.00/654k [00:00<?, ?B/s]\r100% 654k/654k [00:00<00:00, 112MB/s]\n"
          ]
        }
      ]
    },
    {
      "cell_type": "code",
      "source": [
        "#! unzip /content/drive-download-20220809T184218Z-001.zip\n"
      ],
      "metadata": {
        "id": "SPG497NHj_r1"
      },
      "execution_count": 343,
      "outputs": []
    },
    {
      "cell_type": "markdown",
      "source": [
        "#Preparation"
      ],
      "metadata": {
        "id": "lR6LJgtxLPno"
      }
    },
    {
      "cell_type": "code",
      "source": [
        "import pandas as pd\n",
        "import seaborn as sns\n",
        "import matplotlib.pyplot as plt\n",
        "import numpy as np\n",
        "pd.set_option('display.float_format', '{:,.2f}'.format)\n",
        "\n",
        "import random\n",
        "import math as mt\n",
        "from math import factorial\n",
        "from scipy.stats import norm\n",
        "from scipy import stats as st\n",
        "from openpyxl import load_workbook\n"
      ],
      "metadata": {
        "id": "0s52a29WkrDc"
      },
      "execution_count": 344,
      "outputs": []
    },
    {
      "cell_type": "code",
      "source": [
        "df = pd.read_csv('/content/log_file.csv')"
      ],
      "metadata": {
        "id": "FW_E3TIEk8FA"
      },
      "execution_count": 345,
      "outputs": []
    },
    {
      "cell_type": "code",
      "source": [
        "df.head()\n"
      ],
      "metadata": {
        "colab": {
          "base_uri": "https://localhost:8080/",
          "height": 354
        },
        "id": "1XnqC5brlMjf",
        "outputId": "0e7b0721-7d04-4dc4-f96e-214078042178"
      },
      "execution_count": 346,
      "outputs": [
        {
          "output_type": "execute_result",
          "data": {
            "text/plain": [
              "   RespondentId                 External RespondentId Platform  \\\n",
              "0        931049  60f77cc6-e4b3-f365-9e53-28510c35973b  desktop   \n",
              "1        931049  60f77cc6-e4b3-f365-9e53-28510c35973b  desktop   \n",
              "2        931049  60f77cc6-e4b3-f365-9e53-28510c35973b  desktop   \n",
              "3        931049  60f77cc6-e4b3-f365-9e53-28510c35973b  desktop   \n",
              "4        931049  60f77cc6-e4b3-f365-9e53-28510c35973b  desktop   \n",
              "\n",
              "                   Experiment Product Brand Category Prod id    Action  \\\n",
              "0  Experiment 2 - Price 23.99       -     -        -       -     login   \n",
              "1  Experiment 2 - Price 23.99       -     -        -       -  pageview   \n",
              "2  Experiment 2 - Price 23.99       -     -        -       -  pageview   \n",
              "3  Experiment 2 - Price 23.99       -     -        -       -  pageview   \n",
              "4  Experiment 2 - Price 23.99       -     -        -       -  pageview   \n",
              "\n",
              "   Bought   Timestamp Detail id Detail type  Detail price Detail name  \\\n",
              "0       0  1626832151       NaN         NaN           NaN         NaN   \n",
              "1       0  1626832151       NaN         NaN           NaN         NaN   \n",
              "2       0  1626833270       NaN         NaN           NaN         NaN   \n",
              "3       0  1626833295       NaN         NaN           NaN         NaN   \n",
              "4       0  1626833296       NaN         NaN           NaN         NaN   \n",
              "\n",
              "   Detail position  Detail qty  \n",
              "0              NaN         NaN  \n",
              "1              NaN         NaN  \n",
              "2              NaN         NaN  \n",
              "3              NaN         NaN  \n",
              "4              NaN         NaN  "
            ],
            "text/html": [
              "\n",
              "  <div id=\"df-9dac9eaa-0c9f-4e78-baea-a0058d0240ee\">\n",
              "    <div class=\"colab-df-container\">\n",
              "      <div>\n",
              "<style scoped>\n",
              "    .dataframe tbody tr th:only-of-type {\n",
              "        vertical-align: middle;\n",
              "    }\n",
              "\n",
              "    .dataframe tbody tr th {\n",
              "        vertical-align: top;\n",
              "    }\n",
              "\n",
              "    .dataframe thead th {\n",
              "        text-align: right;\n",
              "    }\n",
              "</style>\n",
              "<table border=\"1\" class=\"dataframe\">\n",
              "  <thead>\n",
              "    <tr style=\"text-align: right;\">\n",
              "      <th></th>\n",
              "      <th>RespondentId</th>\n",
              "      <th>External RespondentId</th>\n",
              "      <th>Platform</th>\n",
              "      <th>Experiment</th>\n",
              "      <th>Product</th>\n",
              "      <th>Brand</th>\n",
              "      <th>Category</th>\n",
              "      <th>Prod id</th>\n",
              "      <th>Action</th>\n",
              "      <th>Bought</th>\n",
              "      <th>Timestamp</th>\n",
              "      <th>Detail id</th>\n",
              "      <th>Detail type</th>\n",
              "      <th>Detail price</th>\n",
              "      <th>Detail name</th>\n",
              "      <th>Detail position</th>\n",
              "      <th>Detail qty</th>\n",
              "    </tr>\n",
              "  </thead>\n",
              "  <tbody>\n",
              "    <tr>\n",
              "      <th>0</th>\n",
              "      <td>931049</td>\n",
              "      <td>60f77cc6-e4b3-f365-9e53-28510c35973b</td>\n",
              "      <td>desktop</td>\n",
              "      <td>Experiment 2 - Price 23.99</td>\n",
              "      <td>-</td>\n",
              "      <td>-</td>\n",
              "      <td>-</td>\n",
              "      <td>-</td>\n",
              "      <td>login</td>\n",
              "      <td>0</td>\n",
              "      <td>1626832151</td>\n",
              "      <td>NaN</td>\n",
              "      <td>NaN</td>\n",
              "      <td>NaN</td>\n",
              "      <td>NaN</td>\n",
              "      <td>NaN</td>\n",
              "      <td>NaN</td>\n",
              "    </tr>\n",
              "    <tr>\n",
              "      <th>1</th>\n",
              "      <td>931049</td>\n",
              "      <td>60f77cc6-e4b3-f365-9e53-28510c35973b</td>\n",
              "      <td>desktop</td>\n",
              "      <td>Experiment 2 - Price 23.99</td>\n",
              "      <td>-</td>\n",
              "      <td>-</td>\n",
              "      <td>-</td>\n",
              "      <td>-</td>\n",
              "      <td>pageview</td>\n",
              "      <td>0</td>\n",
              "      <td>1626832151</td>\n",
              "      <td>NaN</td>\n",
              "      <td>NaN</td>\n",
              "      <td>NaN</td>\n",
              "      <td>NaN</td>\n",
              "      <td>NaN</td>\n",
              "      <td>NaN</td>\n",
              "    </tr>\n",
              "    <tr>\n",
              "      <th>2</th>\n",
              "      <td>931049</td>\n",
              "      <td>60f77cc6-e4b3-f365-9e53-28510c35973b</td>\n",
              "      <td>desktop</td>\n",
              "      <td>Experiment 2 - Price 23.99</td>\n",
              "      <td>-</td>\n",
              "      <td>-</td>\n",
              "      <td>-</td>\n",
              "      <td>-</td>\n",
              "      <td>pageview</td>\n",
              "      <td>0</td>\n",
              "      <td>1626833270</td>\n",
              "      <td>NaN</td>\n",
              "      <td>NaN</td>\n",
              "      <td>NaN</td>\n",
              "      <td>NaN</td>\n",
              "      <td>NaN</td>\n",
              "      <td>NaN</td>\n",
              "    </tr>\n",
              "    <tr>\n",
              "      <th>3</th>\n",
              "      <td>931049</td>\n",
              "      <td>60f77cc6-e4b3-f365-9e53-28510c35973b</td>\n",
              "      <td>desktop</td>\n",
              "      <td>Experiment 2 - Price 23.99</td>\n",
              "      <td>-</td>\n",
              "      <td>-</td>\n",
              "      <td>-</td>\n",
              "      <td>-</td>\n",
              "      <td>pageview</td>\n",
              "      <td>0</td>\n",
              "      <td>1626833295</td>\n",
              "      <td>NaN</td>\n",
              "      <td>NaN</td>\n",
              "      <td>NaN</td>\n",
              "      <td>NaN</td>\n",
              "      <td>NaN</td>\n",
              "      <td>NaN</td>\n",
              "    </tr>\n",
              "    <tr>\n",
              "      <th>4</th>\n",
              "      <td>931049</td>\n",
              "      <td>60f77cc6-e4b3-f365-9e53-28510c35973b</td>\n",
              "      <td>desktop</td>\n",
              "      <td>Experiment 2 - Price 23.99</td>\n",
              "      <td>-</td>\n",
              "      <td>-</td>\n",
              "      <td>-</td>\n",
              "      <td>-</td>\n",
              "      <td>pageview</td>\n",
              "      <td>0</td>\n",
              "      <td>1626833296</td>\n",
              "      <td>NaN</td>\n",
              "      <td>NaN</td>\n",
              "      <td>NaN</td>\n",
              "      <td>NaN</td>\n",
              "      <td>NaN</td>\n",
              "      <td>NaN</td>\n",
              "    </tr>\n",
              "  </tbody>\n",
              "</table>\n",
              "</div>\n",
              "      <button class=\"colab-df-convert\" onclick=\"convertToInteractive('df-9dac9eaa-0c9f-4e78-baea-a0058d0240ee')\"\n",
              "              title=\"Convert this dataframe to an interactive table.\"\n",
              "              style=\"display:none;\">\n",
              "        \n",
              "  <svg xmlns=\"http://www.w3.org/2000/svg\" height=\"24px\"viewBox=\"0 0 24 24\"\n",
              "       width=\"24px\">\n",
              "    <path d=\"M0 0h24v24H0V0z\" fill=\"none\"/>\n",
              "    <path d=\"M18.56 5.44l.94 2.06.94-2.06 2.06-.94-2.06-.94-.94-2.06-.94 2.06-2.06.94zm-11 1L8.5 8.5l.94-2.06 2.06-.94-2.06-.94L8.5 2.5l-.94 2.06-2.06.94zm10 10l.94 2.06.94-2.06 2.06-.94-2.06-.94-.94-2.06-.94 2.06-2.06.94z\"/><path d=\"M17.41 7.96l-1.37-1.37c-.4-.4-.92-.59-1.43-.59-.52 0-1.04.2-1.43.59L10.3 9.45l-7.72 7.72c-.78.78-.78 2.05 0 2.83L4 21.41c.39.39.9.59 1.41.59.51 0 1.02-.2 1.41-.59l7.78-7.78 2.81-2.81c.8-.78.8-2.07 0-2.86zM5.41 20L4 18.59l7.72-7.72 1.47 1.35L5.41 20z\"/>\n",
              "  </svg>\n",
              "      </button>\n",
              "      \n",
              "  <style>\n",
              "    .colab-df-container {\n",
              "      display:flex;\n",
              "      flex-wrap:wrap;\n",
              "      gap: 12px;\n",
              "    }\n",
              "\n",
              "    .colab-df-convert {\n",
              "      background-color: #E8F0FE;\n",
              "      border: none;\n",
              "      border-radius: 50%;\n",
              "      cursor: pointer;\n",
              "      display: none;\n",
              "      fill: #1967D2;\n",
              "      height: 32px;\n",
              "      padding: 0 0 0 0;\n",
              "      width: 32px;\n",
              "    }\n",
              "\n",
              "    .colab-df-convert:hover {\n",
              "      background-color: #E2EBFA;\n",
              "      box-shadow: 0px 1px 2px rgba(60, 64, 67, 0.3), 0px 1px 3px 1px rgba(60, 64, 67, 0.15);\n",
              "      fill: #174EA6;\n",
              "    }\n",
              "\n",
              "    [theme=dark] .colab-df-convert {\n",
              "      background-color: #3B4455;\n",
              "      fill: #D2E3FC;\n",
              "    }\n",
              "\n",
              "    [theme=dark] .colab-df-convert:hover {\n",
              "      background-color: #434B5C;\n",
              "      box-shadow: 0px 1px 3px 1px rgba(0, 0, 0, 0.15);\n",
              "      filter: drop-shadow(0px 1px 2px rgba(0, 0, 0, 0.3));\n",
              "      fill: #FFFFFF;\n",
              "    }\n",
              "  </style>\n",
              "\n",
              "      <script>\n",
              "        const buttonEl =\n",
              "          document.querySelector('#df-9dac9eaa-0c9f-4e78-baea-a0058d0240ee button.colab-df-convert');\n",
              "        buttonEl.style.display =\n",
              "          google.colab.kernel.accessAllowed ? 'block' : 'none';\n",
              "\n",
              "        async function convertToInteractive(key) {\n",
              "          const element = document.querySelector('#df-9dac9eaa-0c9f-4e78-baea-a0058d0240ee');\n",
              "          const dataTable =\n",
              "            await google.colab.kernel.invokeFunction('convertToInteractive',\n",
              "                                                     [key], {});\n",
              "          if (!dataTable) return;\n",
              "\n",
              "          const docLinkHtml = 'Like what you see? Visit the ' +\n",
              "            '<a target=\"_blank\" href=https://colab.research.google.com/notebooks/data_table.ipynb>data table notebook</a>'\n",
              "            + ' to learn more about interactive tables.';\n",
              "          element.innerHTML = '';\n",
              "          dataTable['output_type'] = 'display_data';\n",
              "          await google.colab.output.renderOutput(dataTable, element);\n",
              "          const docLink = document.createElement('div');\n",
              "          docLink.innerHTML = docLinkHtml;\n",
              "          element.appendChild(docLink);\n",
              "        }\n",
              "      </script>\n",
              "    </div>\n",
              "  </div>\n",
              "  "
            ]
          },
          "metadata": {},
          "execution_count": 346
        }
      ]
    },
    {
      "cell_type": "code",
      "source": [
        "df.columns "
      ],
      "metadata": {
        "colab": {
          "base_uri": "https://localhost:8080/"
        },
        "id": "SYuW8lHEwP0d",
        "outputId": "32d8d9b7-af56-4f9b-f3d8-40b34f396898"
      },
      "execution_count": 347,
      "outputs": [
        {
          "output_type": "execute_result",
          "data": {
            "text/plain": [
              "Index(['RespondentId', 'External RespondentId', 'Platform', 'Experiment',\n",
              "       'Product', 'Brand', 'Category', 'Prod id', 'Action', 'Bought',\n",
              "       'Timestamp', 'Detail id', 'Detail type', 'Detail price', 'Detail name',\n",
              "       'Detail position', 'Detail qty'],\n",
              "      dtype='object')"
            ]
          },
          "metadata": {},
          "execution_count": 347
        }
      ]
    },
    {
      "cell_type": "code",
      "source": [
        "df.columns = df.columns.str.lower().str.replace(' ', '_')\n",
        "df = df.rename(columns={'respondentid': 'respondent_id', 'external_respondentid': 'external_respondent_id'})"
      ],
      "metadata": {
        "id": "bdT2dPNjwUYg"
      },
      "execution_count": 348,
      "outputs": []
    },
    {
      "cell_type": "code",
      "source": [
        "df.info()"
      ],
      "metadata": {
        "colab": {
          "base_uri": "https://localhost:8080/"
        },
        "id": "9fxoj8w1lyY-",
        "outputId": "eca26154-5aed-4664-9ed6-35a6e252ba1a"
      },
      "execution_count": 349,
      "outputs": [
        {
          "output_type": "stream",
          "name": "stdout",
          "text": [
            "<class 'pandas.core.frame.DataFrame'>\n",
            "RangeIndex: 42807 entries, 0 to 42806\n",
            "Data columns (total 17 columns):\n",
            " #   Column                  Non-Null Count  Dtype  \n",
            "---  ------                  --------------  -----  \n",
            " 0   respondent_id           42807 non-null  int64  \n",
            " 1   external_respondent_id  42807 non-null  object \n",
            " 2   platform                42807 non-null  object \n",
            " 3   experiment              42807 non-null  object \n",
            " 4   product                 42807 non-null  object \n",
            " 5   brand                   42807 non-null  object \n",
            " 6   category                42807 non-null  object \n",
            " 7   prod_id                 42807 non-null  object \n",
            " 8   action                  42807 non-null  object \n",
            " 9   bought                  42807 non-null  int64  \n",
            " 10  timestamp               42807 non-null  int64  \n",
            " 11  detail_id               18196 non-null  object \n",
            " 12  detail_type             9399 non-null   object \n",
            " 13  detail_price            19814 non-null  float64\n",
            " 14  detail_name             19814 non-null  object \n",
            " 15  detail_position         19814 non-null  float64\n",
            " 16  detail_qty              3165 non-null   float64\n",
            "dtypes: float64(3), int64(3), object(11)\n",
            "memory usage: 5.6+ MB\n"
          ]
        }
      ]
    },
    {
      "cell_type": "code",
      "source": [
        "df['datetime'] = pd.to_datetime(df[\"timestamp\"], unit=\"s\")"
      ],
      "metadata": {
        "id": "hjBcGuORt6xO"
      },
      "execution_count": 350,
      "outputs": []
    },
    {
      "cell_type": "code",
      "source": [
        "profiles = pd.read_csv('/content/profiles.csv')\n",
        "profiles.head()"
      ],
      "metadata": {
        "colab": {
          "base_uri": "https://localhost:8080/",
          "height": 456
        },
        "id": "8HKt2UJXoCet",
        "outputId": "6f8dfabe-2b5f-4c66-b08b-667cda40bc38"
      },
      "execution_count": 351,
      "outputs": [
        {
          "output_type": "execute_result",
          "data": {
            "text/plain": [
              "              experiment_name  respondent_id  \\\n",
              "0  Experiment 2 - Price 23.99         931049   \n",
              "1  Experiment 1 - Price 19.99         931046   \n",
              "2  Experiment 1 - Price 19.99         931044   \n",
              "3  Experiment 1 - Price 19.99         931039   \n",
              "4  Experiment 1 - Price 19.99         931038   \n",
              "\n",
              "                 respondent_external_id source     status platform  \\\n",
              "0  60f77cc6-e4b3-f365-9e53-28510c35973b  lucid  completed  desktop   \n",
              "1  60f77ccd-d1d4-ad65-146d-2bc83aa2beeb  lucid  completed  desktop   \n",
              "2  60f77cc9-c9e1-6eff-fa13-a7c8c0bdd789  lucid  completed  desktop   \n",
              "3  60f77c0c-3ba9-ae2e-9d68-a7f3c492c9ac  lucid  completed  desktop   \n",
              "4  60f77c0a-8c52-5063-7e7a-b8e259219e54  lucid  completed  desktop   \n",
              "\n",
              "   checked out empty the 1st time  Profile Group Triggers Group Answers Group  \\\n",
              "0                               0            NaN              1     Default A   \n",
              "1                               0            NaN           fail     Default A   \n",
              "2                               0            NaN           fail     Default A   \n",
              "3                               0            NaN           fail     Default A   \n",
              "4                               0            NaN           fail     Default A   \n",
              "\n",
              "   ...  p7i3o p7i3t  p7i4o p7i4t  p7i5o p7i5t  p7i6o p7i6t  p7i7o p7i7t  \n",
              "0  ...      0     0      0     0      0     0      0     0      0     0  \n",
              "1  ...      0     0      0     0      0     0      0     0      0     0  \n",
              "2  ...      0     0      0     0      0     0      0     0      0     0  \n",
              "3  ...      0     0      0     0      0     0      0     0      0     0  \n",
              "4  ...      0     0      0     0      0     0      0     0      0     0  \n",
              "\n",
              "[5 rows x 211 columns]"
            ],
            "text/html": [
              "\n",
              "  <div id=\"df-69b7e0e6-5997-45dc-b096-00a867774366\">\n",
              "    <div class=\"colab-df-container\">\n",
              "      <div>\n",
              "<style scoped>\n",
              "    .dataframe tbody tr th:only-of-type {\n",
              "        vertical-align: middle;\n",
              "    }\n",
              "\n",
              "    .dataframe tbody tr th {\n",
              "        vertical-align: top;\n",
              "    }\n",
              "\n",
              "    .dataframe thead th {\n",
              "        text-align: right;\n",
              "    }\n",
              "</style>\n",
              "<table border=\"1\" class=\"dataframe\">\n",
              "  <thead>\n",
              "    <tr style=\"text-align: right;\">\n",
              "      <th></th>\n",
              "      <th>experiment_name</th>\n",
              "      <th>respondent_id</th>\n",
              "      <th>respondent_external_id</th>\n",
              "      <th>source</th>\n",
              "      <th>status</th>\n",
              "      <th>platform</th>\n",
              "      <th>checked out empty the 1st time</th>\n",
              "      <th>Profile Group</th>\n",
              "      <th>Triggers Group</th>\n",
              "      <th>Answers Group</th>\n",
              "      <th>...</th>\n",
              "      <th>p7i3o</th>\n",
              "      <th>p7i3t</th>\n",
              "      <th>p7i4o</th>\n",
              "      <th>p7i4t</th>\n",
              "      <th>p7i5o</th>\n",
              "      <th>p7i5t</th>\n",
              "      <th>p7i6o</th>\n",
              "      <th>p7i6t</th>\n",
              "      <th>p7i7o</th>\n",
              "      <th>p7i7t</th>\n",
              "    </tr>\n",
              "  </thead>\n",
              "  <tbody>\n",
              "    <tr>\n",
              "      <th>0</th>\n",
              "      <td>Experiment 2 - Price 23.99</td>\n",
              "      <td>931049</td>\n",
              "      <td>60f77cc6-e4b3-f365-9e53-28510c35973b</td>\n",
              "      <td>lucid</td>\n",
              "      <td>completed</td>\n",
              "      <td>desktop</td>\n",
              "      <td>0</td>\n",
              "      <td>NaN</td>\n",
              "      <td>1</td>\n",
              "      <td>Default A</td>\n",
              "      <td>...</td>\n",
              "      <td>0</td>\n",
              "      <td>0</td>\n",
              "      <td>0</td>\n",
              "      <td>0</td>\n",
              "      <td>0</td>\n",
              "      <td>0</td>\n",
              "      <td>0</td>\n",
              "      <td>0</td>\n",
              "      <td>0</td>\n",
              "      <td>0</td>\n",
              "    </tr>\n",
              "    <tr>\n",
              "      <th>1</th>\n",
              "      <td>Experiment 1 - Price 19.99</td>\n",
              "      <td>931046</td>\n",
              "      <td>60f77ccd-d1d4-ad65-146d-2bc83aa2beeb</td>\n",
              "      <td>lucid</td>\n",
              "      <td>completed</td>\n",
              "      <td>desktop</td>\n",
              "      <td>0</td>\n",
              "      <td>NaN</td>\n",
              "      <td>fail</td>\n",
              "      <td>Default A</td>\n",
              "      <td>...</td>\n",
              "      <td>0</td>\n",
              "      <td>0</td>\n",
              "      <td>0</td>\n",
              "      <td>0</td>\n",
              "      <td>0</td>\n",
              "      <td>0</td>\n",
              "      <td>0</td>\n",
              "      <td>0</td>\n",
              "      <td>0</td>\n",
              "      <td>0</td>\n",
              "    </tr>\n",
              "    <tr>\n",
              "      <th>2</th>\n",
              "      <td>Experiment 1 - Price 19.99</td>\n",
              "      <td>931044</td>\n",
              "      <td>60f77cc9-c9e1-6eff-fa13-a7c8c0bdd789</td>\n",
              "      <td>lucid</td>\n",
              "      <td>completed</td>\n",
              "      <td>desktop</td>\n",
              "      <td>0</td>\n",
              "      <td>NaN</td>\n",
              "      <td>fail</td>\n",
              "      <td>Default A</td>\n",
              "      <td>...</td>\n",
              "      <td>0</td>\n",
              "      <td>0</td>\n",
              "      <td>0</td>\n",
              "      <td>0</td>\n",
              "      <td>0</td>\n",
              "      <td>0</td>\n",
              "      <td>0</td>\n",
              "      <td>0</td>\n",
              "      <td>0</td>\n",
              "      <td>0</td>\n",
              "    </tr>\n",
              "    <tr>\n",
              "      <th>3</th>\n",
              "      <td>Experiment 1 - Price 19.99</td>\n",
              "      <td>931039</td>\n",
              "      <td>60f77c0c-3ba9-ae2e-9d68-a7f3c492c9ac</td>\n",
              "      <td>lucid</td>\n",
              "      <td>completed</td>\n",
              "      <td>desktop</td>\n",
              "      <td>0</td>\n",
              "      <td>NaN</td>\n",
              "      <td>fail</td>\n",
              "      <td>Default A</td>\n",
              "      <td>...</td>\n",
              "      <td>0</td>\n",
              "      <td>0</td>\n",
              "      <td>0</td>\n",
              "      <td>0</td>\n",
              "      <td>0</td>\n",
              "      <td>0</td>\n",
              "      <td>0</td>\n",
              "      <td>0</td>\n",
              "      <td>0</td>\n",
              "      <td>0</td>\n",
              "    </tr>\n",
              "    <tr>\n",
              "      <th>4</th>\n",
              "      <td>Experiment 1 - Price 19.99</td>\n",
              "      <td>931038</td>\n",
              "      <td>60f77c0a-8c52-5063-7e7a-b8e259219e54</td>\n",
              "      <td>lucid</td>\n",
              "      <td>completed</td>\n",
              "      <td>desktop</td>\n",
              "      <td>0</td>\n",
              "      <td>NaN</td>\n",
              "      <td>fail</td>\n",
              "      <td>Default A</td>\n",
              "      <td>...</td>\n",
              "      <td>0</td>\n",
              "      <td>0</td>\n",
              "      <td>0</td>\n",
              "      <td>0</td>\n",
              "      <td>0</td>\n",
              "      <td>0</td>\n",
              "      <td>0</td>\n",
              "      <td>0</td>\n",
              "      <td>0</td>\n",
              "      <td>0</td>\n",
              "    </tr>\n",
              "  </tbody>\n",
              "</table>\n",
              "<p>5 rows × 211 columns</p>\n",
              "</div>\n",
              "      <button class=\"colab-df-convert\" onclick=\"convertToInteractive('df-69b7e0e6-5997-45dc-b096-00a867774366')\"\n",
              "              title=\"Convert this dataframe to an interactive table.\"\n",
              "              style=\"display:none;\">\n",
              "        \n",
              "  <svg xmlns=\"http://www.w3.org/2000/svg\" height=\"24px\"viewBox=\"0 0 24 24\"\n",
              "       width=\"24px\">\n",
              "    <path d=\"M0 0h24v24H0V0z\" fill=\"none\"/>\n",
              "    <path d=\"M18.56 5.44l.94 2.06.94-2.06 2.06-.94-2.06-.94-.94-2.06-.94 2.06-2.06.94zm-11 1L8.5 8.5l.94-2.06 2.06-.94-2.06-.94L8.5 2.5l-.94 2.06-2.06.94zm10 10l.94 2.06.94-2.06 2.06-.94-2.06-.94-.94-2.06-.94 2.06-2.06.94z\"/><path d=\"M17.41 7.96l-1.37-1.37c-.4-.4-.92-.59-1.43-.59-.52 0-1.04.2-1.43.59L10.3 9.45l-7.72 7.72c-.78.78-.78 2.05 0 2.83L4 21.41c.39.39.9.59 1.41.59.51 0 1.02-.2 1.41-.59l7.78-7.78 2.81-2.81c.8-.78.8-2.07 0-2.86zM5.41 20L4 18.59l7.72-7.72 1.47 1.35L5.41 20z\"/>\n",
              "  </svg>\n",
              "      </button>\n",
              "      \n",
              "  <style>\n",
              "    .colab-df-container {\n",
              "      display:flex;\n",
              "      flex-wrap:wrap;\n",
              "      gap: 12px;\n",
              "    }\n",
              "\n",
              "    .colab-df-convert {\n",
              "      background-color: #E8F0FE;\n",
              "      border: none;\n",
              "      border-radius: 50%;\n",
              "      cursor: pointer;\n",
              "      display: none;\n",
              "      fill: #1967D2;\n",
              "      height: 32px;\n",
              "      padding: 0 0 0 0;\n",
              "      width: 32px;\n",
              "    }\n",
              "\n",
              "    .colab-df-convert:hover {\n",
              "      background-color: #E2EBFA;\n",
              "      box-shadow: 0px 1px 2px rgba(60, 64, 67, 0.3), 0px 1px 3px 1px rgba(60, 64, 67, 0.15);\n",
              "      fill: #174EA6;\n",
              "    }\n",
              "\n",
              "    [theme=dark] .colab-df-convert {\n",
              "      background-color: #3B4455;\n",
              "      fill: #D2E3FC;\n",
              "    }\n",
              "\n",
              "    [theme=dark] .colab-df-convert:hover {\n",
              "      background-color: #434B5C;\n",
              "      box-shadow: 0px 1px 3px 1px rgba(0, 0, 0, 0.15);\n",
              "      filter: drop-shadow(0px 1px 2px rgba(0, 0, 0, 0.3));\n",
              "      fill: #FFFFFF;\n",
              "    }\n",
              "  </style>\n",
              "\n",
              "      <script>\n",
              "        const buttonEl =\n",
              "          document.querySelector('#df-69b7e0e6-5997-45dc-b096-00a867774366 button.colab-df-convert');\n",
              "        buttonEl.style.display =\n",
              "          google.colab.kernel.accessAllowed ? 'block' : 'none';\n",
              "\n",
              "        async function convertToInteractive(key) {\n",
              "          const element = document.querySelector('#df-69b7e0e6-5997-45dc-b096-00a867774366');\n",
              "          const dataTable =\n",
              "            await google.colab.kernel.invokeFunction('convertToInteractive',\n",
              "                                                     [key], {});\n",
              "          if (!dataTable) return;\n",
              "\n",
              "          const docLinkHtml = 'Like what you see? Visit the ' +\n",
              "            '<a target=\"_blank\" href=https://colab.research.google.com/notebooks/data_table.ipynb>data table notebook</a>'\n",
              "            + ' to learn more about interactive tables.';\n",
              "          element.innerHTML = '';\n",
              "          dataTable['output_type'] = 'display_data';\n",
              "          await google.colab.output.renderOutput(dataTable, element);\n",
              "          const docLink = document.createElement('div');\n",
              "          docLink.innerHTML = docLinkHtml;\n",
              "          element.appendChild(docLink);\n",
              "        }\n",
              "      </script>\n",
              "    </div>\n",
              "  </div>\n",
              "  "
            ]
          },
          "metadata": {},
          "execution_count": 351
        }
      ]
    },
    {
      "cell_type": "code",
      "source": [
        "profiles.info()"
      ],
      "metadata": {
        "colab": {
          "base_uri": "https://localhost:8080/"
        },
        "id": "qrJ-zQDOtTAw",
        "outputId": "887d974e-f7d2-4e13-c988-ea0029a86f8b"
      },
      "execution_count": 352,
      "outputs": [
        {
          "output_type": "stream",
          "name": "stdout",
          "text": [
            "<class 'pandas.core.frame.DataFrame'>\n",
            "RangeIndex: 1109 entries, 0 to 1108\n",
            "Columns: 211 entries, experiment_name to p7i7t\n",
            "dtypes: float64(14), int64(133), object(64)\n",
            "memory usage: 1.8+ MB\n"
          ]
        }
      ]
    },
    {
      "cell_type": "code",
      "source": [
        "list(profiles)"
      ],
      "metadata": {
        "colab": {
          "base_uri": "https://localhost:8080/"
        },
        "id": "13EUVrt72ryS",
        "outputId": "ab01c9aa-554c-42c3-a6fa-32585fb0622c"
      },
      "execution_count": 353,
      "outputs": [
        {
          "output_type": "execute_result",
          "data": {
            "text/plain": [
              "['experiment_name',\n",
              " 'respondent_id',\n",
              " 'respondent_external_id',\n",
              " 'source',\n",
              " 'status',\n",
              " 'platform',\n",
              " 'checked out empty the 1st time',\n",
              " 'Profile Group',\n",
              " 'Triggers Group',\n",
              " 'Answers Group',\n",
              " '3316',\n",
              " 'We will start with a few questions first, if you qualify you will be able to do the shopping trip simulation. QD1. You are…',\n",
              " '3317',\n",
              " 'QD2. Please indicate your age group:',\n",
              " '3318',\n",
              " 'QCe3. Do you personally, or any of your relatives or close friends work/ study in the following areas?',\n",
              " '3319',\n",
              " 'QCe4. Did you participate in any type of market research in the past 3 months linked to Air Fresheners products?',\n",
              " '3320',\n",
              " 'QD5. How much is your total household yearly income (before tax)?',\n",
              " '3321',\n",
              " 'QD6. Which of the following options fit best with your life stage? Please indicate one answer only.',\n",
              " '3322',\n",
              " 'QCe7. Among the different categories of products listed below which are the one you would never buy?',\n",
              " '3323',\n",
              " 'QCe8. Among the different categories of products listed below which are the ones you have bought in the past 12M? Select all that apply .',\n",
              " '3324',\n",
              " 'QCe9. When it comes to household products (e.g. cleaning supplies, air freshener products), which of the below statements best describes your views? Please choose only one answer.',\n",
              " '3325',\n",
              " 'QCe10. When you buy home fragrance products, what is most important to you?',\n",
              " '3326',\n",
              " '3314',\n",
              " 'ending_1_other',\n",
              " '3315',\n",
              " 'QCe2. Could you tell us why you decided not to buy Tested brand Smart WIFI Plug In Scented Oil Starter Kit, 1 Warmer + 2 Refills – Fresh Linen?',\n",
              " 'ending_2_other',\n",
              " 'ad_time',\n",
              " 'ad_click_time',\n",
              " 'item_brand1',\n",
              " 'item_category1',\n",
              " 'cart_item1',\n",
              " 'prev_prod_no_item1',\n",
              " 'cart_price1',\n",
              " 'cart_time1',\n",
              " 'item_brand2',\n",
              " 'item_category2',\n",
              " 'cart_item2',\n",
              " 'prev_prod_no_item2',\n",
              " 'cart_price2',\n",
              " 'cart_time2',\n",
              " 'item_brand3',\n",
              " 'item_category3',\n",
              " 'cart_item3',\n",
              " 'prev_prod_no_item3',\n",
              " 'cart_price3',\n",
              " 'cart_time3',\n",
              " 'item_brand4',\n",
              " 'item_category4',\n",
              " 'cart_item4',\n",
              " 'prev_prod_no_item4',\n",
              " 'cart_price4',\n",
              " 'cart_time4',\n",
              " 'item_brand5',\n",
              " 'item_category5',\n",
              " 'cart_item5',\n",
              " 'prev_prod_no_item5',\n",
              " 'cart_price5',\n",
              " 'cart_time5',\n",
              " 'item_brand6',\n",
              " 'item_category6',\n",
              " 'cart_item6',\n",
              " 'prev_prod_no_item6',\n",
              " 'cart_price6',\n",
              " 'cart_time6',\n",
              " 'item_brand7',\n",
              " 'item_category7',\n",
              " 'cart_item7',\n",
              " 'prev_prod_no_item7',\n",
              " 'cart_price7',\n",
              " 'cart_time7',\n",
              " 'budget',\n",
              " 'p1i1o',\n",
              " 'p1i1t',\n",
              " 'p1i2o',\n",
              " 'p1i2t',\n",
              " 'p1i3o',\n",
              " 'p1i3t',\n",
              " 'p1i4o',\n",
              " 'p1i4t',\n",
              " 'p1i5o',\n",
              " 'p1i5t',\n",
              " 'p1i6o',\n",
              " 'p1i6t',\n",
              " 'p1i7o',\n",
              " 'p1i7t',\n",
              " 'p1i8o',\n",
              " 'p1i8t',\n",
              " 'p1i9o',\n",
              " 'p1i9t',\n",
              " 'p1i10o',\n",
              " 'p1i10t',\n",
              " 'p1i11o',\n",
              " 'p1i11t',\n",
              " 'p2i1o',\n",
              " 'p2i1t',\n",
              " 'p2i2o',\n",
              " 'p2i2t',\n",
              " 'p2i3o',\n",
              " 'p2i3t',\n",
              " 'p2i4o',\n",
              " 'p2i4t',\n",
              " 'p2i5o',\n",
              " 'p2i5t',\n",
              " 'p2i6o',\n",
              " 'p2i6t',\n",
              " 'p2i7o',\n",
              " 'p2i7t',\n",
              " 'p2i8o',\n",
              " 'p2i8t',\n",
              " 'p2i9o',\n",
              " 'p2i9t',\n",
              " 'p2i10o',\n",
              " 'p2i10t',\n",
              " 'p2i11o',\n",
              " 'p2i11t',\n",
              " 'p3i1o',\n",
              " 'p3i1t',\n",
              " 'p3i2o',\n",
              " 'p3i2t',\n",
              " 'p3i3o',\n",
              " 'p3i3t',\n",
              " 'p3i4o',\n",
              " 'p3i4t',\n",
              " 'p3i5o',\n",
              " 'p3i5t',\n",
              " 'p3i6o',\n",
              " 'p3i6t',\n",
              " 'p3i7o',\n",
              " 'p3i7t',\n",
              " 'p3i8o',\n",
              " 'p3i8t',\n",
              " 'p3i9o',\n",
              " 'p3i9t',\n",
              " 'p3i10o',\n",
              " 'p3i10t',\n",
              " 'p3i11o',\n",
              " 'p3i11t',\n",
              " 'p4i1o',\n",
              " 'p4i1t',\n",
              " 'p4i2o',\n",
              " 'p4i2t',\n",
              " 'p4i3o',\n",
              " 'p4i3t',\n",
              " 'p4i4o',\n",
              " 'p4i4t',\n",
              " 'p4i5o',\n",
              " 'p4i5t',\n",
              " 'p4i6o',\n",
              " 'p4i6t',\n",
              " 'p4i7o',\n",
              " 'p4i7t',\n",
              " 'p4i8o',\n",
              " 'p4i8t',\n",
              " 'p4i9o',\n",
              " 'p4i9t',\n",
              " 'p4i10o',\n",
              " 'p4i10t',\n",
              " 'p5i1o',\n",
              " 'p5i1t',\n",
              " 'p5i2o',\n",
              " 'p5i2t',\n",
              " 'p5i3o',\n",
              " 'p5i3t',\n",
              " 'p5i4o',\n",
              " 'p5i4t',\n",
              " 'p5i5o',\n",
              " 'p5i5t',\n",
              " 'p5i6o',\n",
              " 'p5i6t',\n",
              " 'p5i7o',\n",
              " 'p5i7t',\n",
              " 'p5i8o',\n",
              " 'p5i8t',\n",
              " 'p6i1o',\n",
              " 'p6i1t',\n",
              " 'p6i2o',\n",
              " 'p6i2t',\n",
              " 'p6i3o',\n",
              " 'p6i3t',\n",
              " 'p6i4o',\n",
              " 'p6i4t',\n",
              " 'p6i5o',\n",
              " 'p6i5t',\n",
              " 'p6i6o',\n",
              " 'p6i6t',\n",
              " 'p6i7o',\n",
              " 'p6i7t',\n",
              " 'p7i1o',\n",
              " 'p7i1t',\n",
              " 'p7i2o',\n",
              " 'p7i2t',\n",
              " 'p7i3o',\n",
              " 'p7i3t',\n",
              " 'p7i4o',\n",
              " 'p7i4t',\n",
              " 'p7i5o',\n",
              " 'p7i5t',\n",
              " 'p7i6o',\n",
              " 'p7i6t',\n",
              " 'p7i7o',\n",
              " 'p7i7t']"
            ]
          },
          "metadata": {},
          "execution_count": 353
        }
      ]
    },
    {
      "cell_type": "code",
      "source": [
        "profiles = profiles[['respondent_id', 'source',\n",
        "       'status', 'Profile Group',  'QD2. Please indicate your age group:']].copy()\n",
        "\n",
        "profiles.columns = ['respondent_id', 'source',\n",
        "      'status', 'profile_group',  'qd2_age']\n"
      ],
      "metadata": {
        "id": "WKpA8LkM2x1f"
      },
      "execution_count": 354,
      "outputs": []
    },
    {
      "cell_type": "code",
      "source": [
        "df = df.merge(profiles, how='left', on=['respondent_id'])"
      ],
      "metadata": {
        "id": "Ieu07IZpth6s"
      },
      "execution_count": 355,
      "outputs": []
    },
    {
      "cell_type": "code",
      "source": [
        "df.duplicated().sum()"
      ],
      "metadata": {
        "colab": {
          "base_uri": "https://localhost:8080/"
        },
        "id": "5hpMjwiP0BgR",
        "outputId": "f0dfb762-7b9b-430d-8454-e0da4140c7a2"
      },
      "execution_count": 356,
      "outputs": [
        {
          "output_type": "execute_result",
          "data": {
            "text/plain": [
              "2522"
            ]
          },
          "metadata": {},
          "execution_count": 356
        }
      ]
    },
    {
      "cell_type": "code",
      "source": [
        "df.drop_duplicates (keep = 'first', inplace = True)"
      ],
      "metadata": {
        "id": "cXjWUvny1gxb"
      },
      "execution_count": 357,
      "outputs": []
    },
    {
      "cell_type": "code",
      "source": [
        "df.duplicated().sum()"
      ],
      "metadata": {
        "colab": {
          "base_uri": "https://localhost:8080/"
        },
        "id": "Ruo_YC-s1qVC",
        "outputId": "daa50786-2e7a-4b9c-ac5a-a73fa0337d95"
      },
      "execution_count": 358,
      "outputs": [
        {
          "output_type": "execute_result",
          "data": {
            "text/plain": [
              "0"
            ]
          },
          "metadata": {},
          "execution_count": 358
        }
      ]
    },
    {
      "cell_type": "code",
      "source": [
        "df.isna().mean()"
      ],
      "metadata": {
        "colab": {
          "base_uri": "https://localhost:8080/"
        },
        "id": "3x6gDbc_BK6n",
        "outputId": "1abe423c-0831-407e-c8d0-3be87acf18e1"
      },
      "execution_count": 359,
      "outputs": [
        {
          "output_type": "execute_result",
          "data": {
            "text/plain": [
              "respondent_id            0.00\n",
              "external_respondent_id   0.00\n",
              "platform                 0.00\n",
              "experiment               0.00\n",
              "product                  0.00\n",
              "brand                    0.00\n",
              "category                 0.00\n",
              "prod_id                  0.00\n",
              "action                   0.00\n",
              "bought                   0.00\n",
              "timestamp                0.00\n",
              "detail_id                0.55\n",
              "detail_type              0.77\n",
              "detail_price             0.51\n",
              "detail_name              0.51\n",
              "detail_position          0.51\n",
              "detail_qty               0.92\n",
              "datetime                 0.00\n",
              "source                   0.00\n",
              "status                   0.00\n",
              "profile_group            1.00\n",
              "qd2_age                  0.00\n",
              "dtype: float64"
            ]
          },
          "metadata": {},
          "execution_count": 359
        }
      ]
    },
    {
      "cell_type": "code",
      "source": [
        "df['product'].unique()"
      ],
      "metadata": {
        "colab": {
          "base_uri": "https://localhost:8080/"
        },
        "id": "ZUvaoTe6CXoy",
        "outputId": "20a693eb-b5f1-45b3-ec1f-4786802d4e95"
      },
      "execution_count": 360,
      "outputs": [
        {
          "output_type": "execute_result",
          "data": {
            "text/plain": [
              "array(['-',\n",
              "       'Tested brand Smart WIFI Plug In Scented Oil Starter Kit, 1 Warmer + 2 Refills – Fresh Linen',\n",
              "       'Febreze Plug in Air Freshener and Odor Eliminator, Scented Oil Refill and Oil Warmer, Linen & Sky, 1 Count',\n",
              "       'Glade PlugIns Refills Air Freshener Starter Kit, Scented Oil for Home and Bathroom, Apple Cinnamon, 4.02 Fl Oz, 2 Warmers + 6 Refills',\n",
              "       'Glade PlugIns Refills Air Freshener Starter Kit, Scented Oil for Home and Bathroom, Apple Cinnamon, 3.35 Fl Oz, 1 Warmer + 5 Refills',\n",
              "       'Tested brand plug in Scented Oil 5 Refills, Summer Delights, (5x0.67oz), Essential Oils, Air Freshener',\n",
              "       'Renuzit Snuggle Scented Oil Refill for Plugin Air Fresheners, Linen Escape, 5 Count',\n",
              "       'Tested brand Plug in Scented Oil Starter Kit with Snowman Free Decorative Warmer + 2 Refills, Apple Cinnamon, Fall Scent, Fall Spray, (2x0.67oz), Essential Oils, Air Freshener',\n",
              "       'Tested brand plug in Scented Oil 5 Refills, Fresh Linen, (5x0.67oz), Same familiar smell of fresh laundry, New look, Packaging May Vary, Essential Oils, Air Freshener',\n",
              "       'Glade PlugIns Refills Air Freshener, Scented and Essential Oils for Home and Bathroom, ICY Evergreen Forest, 2.01 Fl Oz, 3 Count',\n",
              "       'Febreze Plug in Air Freshener and Odor Eliminator, Scented Oil Refill and Oil Warmer, Gain Original Scent, 1 Count',\n",
              "       'Glade PlugIns Refills Air Freshener, Scented and Essential Oils for Home and Bathroom, Blue Odyssey, 0.67 Fl Oz (Pack of 5) Visit the Glade Store',\n",
              "       'Botanica Plug in Scented Oil Starter Kit, 1 Warmer + 1 Refill, Fresh Pineapple and Tunisian Rosemary, Air Freshener, Essential Oils',\n",
              "       'Botanica Plug in Scented Oil Refill, 2 Refills, French Lavender and Honey Blossom, Air Freshener, Essential Oils',\n",
              "       'Tested brand Plug in Scented Oil Starter Kit, 2 Warmers + 6 Refills, Apple Cinnamon, Fall scent, Fall spray, Eco Friendly, Essential Oils, Air Freshener',\n",
              "       'Febreze Plug in Air Freshener and Odor Eliminator, Scented Oil Refill, Downy April Fresh, 3 Count',\n",
              "       'Febreze Plug in Air Freshener and Odor Eliminator, Scented Oil Refill, Mediterranean Lavender, 3 Count',\n",
              "       'Botanica Plug in Scented Oil Refill, 2 Refills, Caribbean Sweetgrass and Sandalwood, Air Freshener, Essential Oils',\n",
              "       'Botanica Plug in Scented Oil Refill, 2 Refills, Himalayan Magnolia and Vanilla, Air Freshener, Essential Oils',\n",
              "       'Glade PlugIns Scented Oil Warmers Sheer Vanilla Embrace Essential Oil Infused Wall Plug in, 6.39 Ounce, 9 Refills',\n",
              "       'Tested brand plug in Scented Oil 5 Refills, Hawaii, (5x0.67oz), Essential Oils, Air Freshener',\n",
              "       'Glade PlugIns Refills Air Freshener, Scented and Essential Oils for Home and Bathroom, Ginger Spice Oh So Nice, 3.35 Fl Oz, 5 Count',\n",
              "       'Tested brand plug in Scented Oil 5 Refills, Fresh Waters, (5x0.67oz), Essential Oils, Air Freshener',\n",
              "       'Glade PlugIns Refills Air Freshener, Scented and Essential Oils for Home and Bathroom, Pine Wonderland, 3.35 Fl Oz, 5 Count (322303)',\n",
              "       'Tested brand Plug in Scented Oil 2 Refills, Pumpkin Spice, Fall scent, Fall spray, (2x0.67oz), Essential Oils, Air Freshener, Packaging May Vary',\n",
              "       'Febreze Air Freshener, Noticeables Air Freshener, Dual Scented Oil Warmer, 1 Pack of 2',\n",
              "       'Febreze Plug in Air Freshener and Odor Eliminator, Scented Oil Refill, Linen & Sky, 3 Count',\n",
              "       'Febreze Plug in Air Freshener and Odor Eliminator, Scented Oil Refill, Unstopables Fresh, 2 count',\n",
              "       'Febreze Plug In Air Freshener Scented Oil Warmer, 1 Count (Pack of 4) (Oil Not Included)',\n",
              "       'Febreze Plug in Air Freshener and Odor Eliminator, Scented Oil Refill, Mediterraenan Lavender, 2 count',\n",
              "       'Tested brand Plug in Scented Oil 5 Refills, Wild Berries, Fall scent, Fall spray, (5x0.67oz), Essential Oils, Air Freshener, Packaging May Vary',\n",
              "       'Glade PlugIns Refills Air Freshener, Scented and Essential Oils for Home and Bathroom, Blooming Peony & Cherry, 1.34 Oz, 2 Count',\n",
              "       'Glade PlugIns Air Freshener Warmer, Scented and Essential Oils for Home and Bathroom, Up to 50 Days on Low Setting, 2 Count',\n",
              "       'Glade PlugIns Scented Oil Refill Apple Cinnamon, Essential Oil Infused Wall Plug In, 2.01 FL OZ, Pack of 3',\n",
              "       'Glade PlugIns Refills Air Freshener, Scented and Essential Oils for Home and Bathroom, Red Honeysuckle Nectar, 1.34 Fl Oz, 2 Count',\n",
              "       'Tested brand Plug in Scented Oil 5 Refills, Lavender and Chamomile, (5x0.67oz), Essential Oils, Air Freshener',\n",
              "       'Tested brand plug in Scented Oil 3 Refills, Turquoise Oasis, (3x0.67oz), Essential Oils, Air Freshener',\n",
              "       'Febreze Plug In, Air Freshener, Scented Oil Refill, Linen & Sky, 2 Count',\n",
              "       'Glade PlugIns Refills Air Freshener, Scented and Essential Oils for Home and Bathroom, Candy Cane Cheer, 3.35 Fl Oz, 5 Count',\n",
              "       'Glade PlugIns Refills Air Freshener, Scented and Essential Oils for Home and Bathroom, Exotic Tropical Blossoms, 3.35 Fl Oz, 5 Count',\n",
              "       'Bath&body Works White Wallflowers Pluggable Home Fragrance Diffuser Pack of 2',\n",
              "       'Glade PlugIns Refills Air Freshener, Scented and Essential Oils for Home and Bathroom, Toasty Pumpkin Spice, 2.01 Fl Oz, 3 Count',\n",
              "       'Tested brand Plug in Scented Oil 5 Refills, Pumpkin Spice, Fall Scent, Fall Spray, (5x0.67oz), Essential Oils, Air Freshener, Packaging May Vary',\n",
              "       'Tested brand Plug in Scented Oil, Starter Kit, Lavender & Chamomile 1ct, Essential Oils, Air Freshener, Pack 2',\n",
              "       'Tested brand plug in Scented Oil 5 Refills, Vanilla & Pink Papaya, (5x0.67oz), Essential Oils, Air Freshener',\n",
              "       'Glade Plugins Refill Air Freshener, Scented and Essential Oils for Home and Bathroom, Cashmere Woods, 3.35 Fl Oz, 5 Count',\n",
              "       'Glade PlugIns Refills Air Freshener, Scented and Essential Oils for Home and Bathroom, Apple Cinnamon, 3.35 Fl Oz, 5 Count',\n",
              "       'Glade PlugIns Scented Oil Refill, Essential Oil Infused Wall Plug in, 6.39 fl. oz, 9 ct. (Clean LIne)',\n",
              "       'Glade PlugIns Scented Oil Refill, Essential Oil Infused Wall Plug in, 6.39 fl. oz, 9 ct. (Apple Cinnamon)',\n",
              "       'Glade PlugIns Refills Air Freshener, Scented and Essential Oils for Home and Bathroom, Ginger Spice Oh So Nice, 1.34 Fl Oz, 2 Count',\n",
              "       'Tested brand Holiday Scented Oil Kit (2 Warmers + 5 Refills) Apple Cinnamon Medley, Air Freshener with Essential Oils'],\n",
              "      dtype=object)"
            ]
          },
          "metadata": {},
          "execution_count": 360
        }
      ]
    },
    {
      "cell_type": "code",
      "source": [
        "def categorize_income(income):\n",
        "    if income == 'Experiment 2 - Price 23.99':\n",
        "      return 1\n",
        "    else: \n",
        "      return 0 "
      ],
      "metadata": {
        "id": "m92ScB5bC_3P"
      },
      "execution_count": 361,
      "outputs": []
    },
    {
      "cell_type": "code",
      "source": [
        "df['category_test'] = df['experiment'].apply(categorize_income)\n",
        "df.head()"
      ],
      "metadata": {
        "colab": {
          "base_uri": "https://localhost:8080/",
          "height": 473
        },
        "id": "318ChjnpMKHD",
        "outputId": "ec0817b6-a3dd-416e-b224-1dfd1e084ab0"
      },
      "execution_count": 362,
      "outputs": [
        {
          "output_type": "execute_result",
          "data": {
            "text/plain": [
              "   respondent_id                external_respondent_id platform  \\\n",
              "0         931049  60f77cc6-e4b3-f365-9e53-28510c35973b  desktop   \n",
              "1         931049  60f77cc6-e4b3-f365-9e53-28510c35973b  desktop   \n",
              "2         931049  60f77cc6-e4b3-f365-9e53-28510c35973b  desktop   \n",
              "3         931049  60f77cc6-e4b3-f365-9e53-28510c35973b  desktop   \n",
              "4         931049  60f77cc6-e4b3-f365-9e53-28510c35973b  desktop   \n",
              "\n",
              "                   experiment product brand category prod_id    action  \\\n",
              "0  Experiment 2 - Price 23.99       -     -        -       -     login   \n",
              "1  Experiment 2 - Price 23.99       -     -        -       -  pageview   \n",
              "2  Experiment 2 - Price 23.99       -     -        -       -  pageview   \n",
              "3  Experiment 2 - Price 23.99       -     -        -       -  pageview   \n",
              "4  Experiment 2 - Price 23.99       -     -        -       -  pageview   \n",
              "\n",
              "   bought  ...  detail_price detail_name detail_position  detail_qty  \\\n",
              "0       0  ...           NaN         NaN             NaN         NaN   \n",
              "1       0  ...           NaN         NaN             NaN         NaN   \n",
              "2       0  ...           NaN         NaN             NaN         NaN   \n",
              "3       0  ...           NaN         NaN             NaN         NaN   \n",
              "4       0  ...           NaN         NaN             NaN         NaN   \n",
              "\n",
              "             datetime  source     status profile_group  qd2_age category_test  \n",
              "0 2021-07-21 01:49:11   lucid  completed           NaN  40 – 49             1  \n",
              "1 2021-07-21 01:49:11   lucid  completed           NaN  40 – 49             1  \n",
              "2 2021-07-21 02:07:50   lucid  completed           NaN  40 – 49             1  \n",
              "3 2021-07-21 02:08:15   lucid  completed           NaN  40 – 49             1  \n",
              "4 2021-07-21 02:08:16   lucid  completed           NaN  40 – 49             1  \n",
              "\n",
              "[5 rows x 23 columns]"
            ],
            "text/html": [
              "\n",
              "  <div id=\"df-fa792362-9e11-4ea4-a8db-619c32106f70\">\n",
              "    <div class=\"colab-df-container\">\n",
              "      <div>\n",
              "<style scoped>\n",
              "    .dataframe tbody tr th:only-of-type {\n",
              "        vertical-align: middle;\n",
              "    }\n",
              "\n",
              "    .dataframe tbody tr th {\n",
              "        vertical-align: top;\n",
              "    }\n",
              "\n",
              "    .dataframe thead th {\n",
              "        text-align: right;\n",
              "    }\n",
              "</style>\n",
              "<table border=\"1\" class=\"dataframe\">\n",
              "  <thead>\n",
              "    <tr style=\"text-align: right;\">\n",
              "      <th></th>\n",
              "      <th>respondent_id</th>\n",
              "      <th>external_respondent_id</th>\n",
              "      <th>platform</th>\n",
              "      <th>experiment</th>\n",
              "      <th>product</th>\n",
              "      <th>brand</th>\n",
              "      <th>category</th>\n",
              "      <th>prod_id</th>\n",
              "      <th>action</th>\n",
              "      <th>bought</th>\n",
              "      <th>...</th>\n",
              "      <th>detail_price</th>\n",
              "      <th>detail_name</th>\n",
              "      <th>detail_position</th>\n",
              "      <th>detail_qty</th>\n",
              "      <th>datetime</th>\n",
              "      <th>source</th>\n",
              "      <th>status</th>\n",
              "      <th>profile_group</th>\n",
              "      <th>qd2_age</th>\n",
              "      <th>category_test</th>\n",
              "    </tr>\n",
              "  </thead>\n",
              "  <tbody>\n",
              "    <tr>\n",
              "      <th>0</th>\n",
              "      <td>931049</td>\n",
              "      <td>60f77cc6-e4b3-f365-9e53-28510c35973b</td>\n",
              "      <td>desktop</td>\n",
              "      <td>Experiment 2 - Price 23.99</td>\n",
              "      <td>-</td>\n",
              "      <td>-</td>\n",
              "      <td>-</td>\n",
              "      <td>-</td>\n",
              "      <td>login</td>\n",
              "      <td>0</td>\n",
              "      <td>...</td>\n",
              "      <td>NaN</td>\n",
              "      <td>NaN</td>\n",
              "      <td>NaN</td>\n",
              "      <td>NaN</td>\n",
              "      <td>2021-07-21 01:49:11</td>\n",
              "      <td>lucid</td>\n",
              "      <td>completed</td>\n",
              "      <td>NaN</td>\n",
              "      <td>40 – 49</td>\n",
              "      <td>1</td>\n",
              "    </tr>\n",
              "    <tr>\n",
              "      <th>1</th>\n",
              "      <td>931049</td>\n",
              "      <td>60f77cc6-e4b3-f365-9e53-28510c35973b</td>\n",
              "      <td>desktop</td>\n",
              "      <td>Experiment 2 - Price 23.99</td>\n",
              "      <td>-</td>\n",
              "      <td>-</td>\n",
              "      <td>-</td>\n",
              "      <td>-</td>\n",
              "      <td>pageview</td>\n",
              "      <td>0</td>\n",
              "      <td>...</td>\n",
              "      <td>NaN</td>\n",
              "      <td>NaN</td>\n",
              "      <td>NaN</td>\n",
              "      <td>NaN</td>\n",
              "      <td>2021-07-21 01:49:11</td>\n",
              "      <td>lucid</td>\n",
              "      <td>completed</td>\n",
              "      <td>NaN</td>\n",
              "      <td>40 – 49</td>\n",
              "      <td>1</td>\n",
              "    </tr>\n",
              "    <tr>\n",
              "      <th>2</th>\n",
              "      <td>931049</td>\n",
              "      <td>60f77cc6-e4b3-f365-9e53-28510c35973b</td>\n",
              "      <td>desktop</td>\n",
              "      <td>Experiment 2 - Price 23.99</td>\n",
              "      <td>-</td>\n",
              "      <td>-</td>\n",
              "      <td>-</td>\n",
              "      <td>-</td>\n",
              "      <td>pageview</td>\n",
              "      <td>0</td>\n",
              "      <td>...</td>\n",
              "      <td>NaN</td>\n",
              "      <td>NaN</td>\n",
              "      <td>NaN</td>\n",
              "      <td>NaN</td>\n",
              "      <td>2021-07-21 02:07:50</td>\n",
              "      <td>lucid</td>\n",
              "      <td>completed</td>\n",
              "      <td>NaN</td>\n",
              "      <td>40 – 49</td>\n",
              "      <td>1</td>\n",
              "    </tr>\n",
              "    <tr>\n",
              "      <th>3</th>\n",
              "      <td>931049</td>\n",
              "      <td>60f77cc6-e4b3-f365-9e53-28510c35973b</td>\n",
              "      <td>desktop</td>\n",
              "      <td>Experiment 2 - Price 23.99</td>\n",
              "      <td>-</td>\n",
              "      <td>-</td>\n",
              "      <td>-</td>\n",
              "      <td>-</td>\n",
              "      <td>pageview</td>\n",
              "      <td>0</td>\n",
              "      <td>...</td>\n",
              "      <td>NaN</td>\n",
              "      <td>NaN</td>\n",
              "      <td>NaN</td>\n",
              "      <td>NaN</td>\n",
              "      <td>2021-07-21 02:08:15</td>\n",
              "      <td>lucid</td>\n",
              "      <td>completed</td>\n",
              "      <td>NaN</td>\n",
              "      <td>40 – 49</td>\n",
              "      <td>1</td>\n",
              "    </tr>\n",
              "    <tr>\n",
              "      <th>4</th>\n",
              "      <td>931049</td>\n",
              "      <td>60f77cc6-e4b3-f365-9e53-28510c35973b</td>\n",
              "      <td>desktop</td>\n",
              "      <td>Experiment 2 - Price 23.99</td>\n",
              "      <td>-</td>\n",
              "      <td>-</td>\n",
              "      <td>-</td>\n",
              "      <td>-</td>\n",
              "      <td>pageview</td>\n",
              "      <td>0</td>\n",
              "      <td>...</td>\n",
              "      <td>NaN</td>\n",
              "      <td>NaN</td>\n",
              "      <td>NaN</td>\n",
              "      <td>NaN</td>\n",
              "      <td>2021-07-21 02:08:16</td>\n",
              "      <td>lucid</td>\n",
              "      <td>completed</td>\n",
              "      <td>NaN</td>\n",
              "      <td>40 – 49</td>\n",
              "      <td>1</td>\n",
              "    </tr>\n",
              "  </tbody>\n",
              "</table>\n",
              "<p>5 rows × 23 columns</p>\n",
              "</div>\n",
              "      <button class=\"colab-df-convert\" onclick=\"convertToInteractive('df-fa792362-9e11-4ea4-a8db-619c32106f70')\"\n",
              "              title=\"Convert this dataframe to an interactive table.\"\n",
              "              style=\"display:none;\">\n",
              "        \n",
              "  <svg xmlns=\"http://www.w3.org/2000/svg\" height=\"24px\"viewBox=\"0 0 24 24\"\n",
              "       width=\"24px\">\n",
              "    <path d=\"M0 0h24v24H0V0z\" fill=\"none\"/>\n",
              "    <path d=\"M18.56 5.44l.94 2.06.94-2.06 2.06-.94-2.06-.94-.94-2.06-.94 2.06-2.06.94zm-11 1L8.5 8.5l.94-2.06 2.06-.94-2.06-.94L8.5 2.5l-.94 2.06-2.06.94zm10 10l.94 2.06.94-2.06 2.06-.94-2.06-.94-.94-2.06-.94 2.06-2.06.94z\"/><path d=\"M17.41 7.96l-1.37-1.37c-.4-.4-.92-.59-1.43-.59-.52 0-1.04.2-1.43.59L10.3 9.45l-7.72 7.72c-.78.78-.78 2.05 0 2.83L4 21.41c.39.39.9.59 1.41.59.51 0 1.02-.2 1.41-.59l7.78-7.78 2.81-2.81c.8-.78.8-2.07 0-2.86zM5.41 20L4 18.59l7.72-7.72 1.47 1.35L5.41 20z\"/>\n",
              "  </svg>\n",
              "      </button>\n",
              "      \n",
              "  <style>\n",
              "    .colab-df-container {\n",
              "      display:flex;\n",
              "      flex-wrap:wrap;\n",
              "      gap: 12px;\n",
              "    }\n",
              "\n",
              "    .colab-df-convert {\n",
              "      background-color: #E8F0FE;\n",
              "      border: none;\n",
              "      border-radius: 50%;\n",
              "      cursor: pointer;\n",
              "      display: none;\n",
              "      fill: #1967D2;\n",
              "      height: 32px;\n",
              "      padding: 0 0 0 0;\n",
              "      width: 32px;\n",
              "    }\n",
              "\n",
              "    .colab-df-convert:hover {\n",
              "      background-color: #E2EBFA;\n",
              "      box-shadow: 0px 1px 2px rgba(60, 64, 67, 0.3), 0px 1px 3px 1px rgba(60, 64, 67, 0.15);\n",
              "      fill: #174EA6;\n",
              "    }\n",
              "\n",
              "    [theme=dark] .colab-df-convert {\n",
              "      background-color: #3B4455;\n",
              "      fill: #D2E3FC;\n",
              "    }\n",
              "\n",
              "    [theme=dark] .colab-df-convert:hover {\n",
              "      background-color: #434B5C;\n",
              "      box-shadow: 0px 1px 3px 1px rgba(0, 0, 0, 0.15);\n",
              "      filter: drop-shadow(0px 1px 2px rgba(0, 0, 0, 0.3));\n",
              "      fill: #FFFFFF;\n",
              "    }\n",
              "  </style>\n",
              "\n",
              "      <script>\n",
              "        const buttonEl =\n",
              "          document.querySelector('#df-fa792362-9e11-4ea4-a8db-619c32106f70 button.colab-df-convert');\n",
              "        buttonEl.style.display =\n",
              "          google.colab.kernel.accessAllowed ? 'block' : 'none';\n",
              "\n",
              "        async function convertToInteractive(key) {\n",
              "          const element = document.querySelector('#df-fa792362-9e11-4ea4-a8db-619c32106f70');\n",
              "          const dataTable =\n",
              "            await google.colab.kernel.invokeFunction('convertToInteractive',\n",
              "                                                     [key], {});\n",
              "          if (!dataTable) return;\n",
              "\n",
              "          const docLinkHtml = 'Like what you see? Visit the ' +\n",
              "            '<a target=\"_blank\" href=https://colab.research.google.com/notebooks/data_table.ipynb>data table notebook</a>'\n",
              "            + ' to learn more about interactive tables.';\n",
              "          element.innerHTML = '';\n",
              "          dataTable['output_type'] = 'display_data';\n",
              "          await google.colab.output.renderOutput(dataTable, element);\n",
              "          const docLink = document.createElement('div');\n",
              "          docLink.innerHTML = docLinkHtml;\n",
              "          element.appendChild(docLink);\n",
              "        }\n",
              "      </script>\n",
              "    </div>\n",
              "  </div>\n",
              "  "
            ]
          },
          "metadata": {},
          "execution_count": 362
        }
      ]
    },
    {
      "cell_type": "code",
      "source": [
        "df['experiment'].value_counts(dropna = False)"
      ],
      "metadata": {
        "colab": {
          "base_uri": "https://localhost:8080/"
        },
        "id": "eK9m2o1KMgks",
        "outputId": "a74e3df7-7586-499b-805f-6a9b86a9e198"
      },
      "execution_count": 363,
      "outputs": [
        {
          "output_type": "execute_result",
          "data": {
            "text/plain": [
              "Experiment 2 - Price 23.99    20710\n",
              "Experiment 1 - Price 19.99    19575\n",
              "Name: experiment, dtype: int64"
            ]
          },
          "metadata": {},
          "execution_count": 363
        }
      ]
    },
    {
      "cell_type": "code",
      "source": [
        "df['category_test'].value_counts(dropna = False)"
      ],
      "metadata": {
        "colab": {
          "base_uri": "https://localhost:8080/"
        },
        "id": "i17KbpkcbrJg",
        "outputId": "a847aeb8-36e4-468e-d9b0-7293f56e94a5"
      },
      "execution_count": 364,
      "outputs": [
        {
          "output_type": "execute_result",
          "data": {
            "text/plain": [
              "1    20710\n",
              "0    19575\n",
              "Name: category_test, dtype: int64"
            ]
          },
          "metadata": {},
          "execution_count": 364
        }
      ]
    },
    {
      "cell_type": "markdown",
      "source": [
        "#STEP 1"
      ],
      "metadata": {
        "id": "f7XN3gubKKs-"
      }
    },
    {
      "cell_type": "markdown",
      "source": [
        "#Brands"
      ],
      "metadata": {
        "id": "qYrppaN3L49A"
      }
    },
    {
      "cell_type": "markdown",
      "source": [
        "###Tested brand\n"
      ],
      "metadata": {
        "id": "leu9NytHCRRf"
      }
    },
    {
      "cell_type": "markdown",
      "source": [
        "1. How many unique people participated in the experience in total? \n"
      ],
      "metadata": {
        "id": "8P8hobR0JoNb"
      }
    },
    {
      "cell_type": "code",
      "source": [
        "total_row = []"
      ],
      "metadata": {
        "id": "0LXbapdhfhYQ"
      },
      "execution_count": 365,
      "outputs": []
    },
    {
      "cell_type": "code",
      "source": [
        "temporary = df.query('brand ==  \"Tested brand\"') \\\n",
        ".pivot_table(index = 'category_test', values = 'respondent_id', aggfunc=pd.Series.nunique)"
      ],
      "metadata": {
        "id": "vutsQeo0viRd"
      },
      "execution_count": 366,
      "outputs": []
    },
    {
      "cell_type": "code",
      "source": [
        "total_row.append(temporary.loc[0, 'respondent_id'])\n",
        "total_row.append(temporary.loc[1, 'respondent_id'])\n",
        "total_row"
      ],
      "metadata": {
        "colab": {
          "base_uri": "https://localhost:8080/"
        },
        "id": "znbppkKCviUI",
        "outputId": "e78752ba-c444-48ab-c80c-20a4b5d82480"
      },
      "execution_count": 367,
      "outputs": [
        {
          "output_type": "execute_result",
          "data": {
            "text/plain": [
              "[225, 229]"
            ]
          },
          "metadata": {},
          "execution_count": 367
        }
      ]
    },
    {
      "cell_type": "markdown",
      "source": [
        "2. How many unique people purchased “Tested brand” products in the experience if “purchase” condition is “Action” == “bought”? "
      ],
      "metadata": {
        "id": "65FzJd5sU58d"
      }
    },
    {
      "cell_type": "code",
      "source": [
        "temporary = df.query('action == \"bought\" and brand ==  \"Tested brand\"') \\\n",
        ".pivot_table(index = 'category_test', values = 'respondent_id', aggfunc=pd.Series.nunique)"
      ],
      "metadata": {
        "id": "gTm4w4ukvie0"
      },
      "execution_count": 368,
      "outputs": []
    },
    {
      "cell_type": "code",
      "source": [
        "total_row.append(temporary.loc[0, 'respondent_id'])\n",
        "total_row.append(temporary.loc[1, 'respondent_id'])\n",
        "total_row"
      ],
      "metadata": {
        "colab": {
          "base_uri": "https://localhost:8080/"
        },
        "id": "_Kdd84W-87Uz",
        "outputId": "c4543ccc-89be-444f-c4c4-e606c6dc1e19"
      },
      "execution_count": 369,
      "outputs": [
        {
          "output_type": "execute_result",
          "data": {
            "text/plain": [
              "[225, 229, 203, 208]"
            ]
          },
          "metadata": {},
          "execution_count": 369
        }
      ]
    },
    {
      "cell_type": "markdown",
      "source": [
        "3. What is the sum of the values (in $) of all products purchased in the experience? "
      ],
      "metadata": {
        "id": "uZ6kGTt_U_in"
      }
    },
    {
      "cell_type": "code",
      "source": [
        "one_19_99 = 19.99\n",
        "one_23_99 = 23.99"
      ],
      "metadata": {
        "id": "2bY03EmC1eFe"
      },
      "execution_count": 370,
      "outputs": []
    },
    {
      "cell_type": "code",
      "source": [
        "sum_all_products = df.query('action == \"bought\"') \\\n",
        ".pivot_table(index = 'category_test', values = 'respondent_id', aggfunc='count')"
      ],
      "metadata": {
        "id": "6UEn3QWvSuG_"
      },
      "execution_count": 371,
      "outputs": []
    },
    {
      "cell_type": "code",
      "source": [
        "total_row.append(sum_all_products.loc[0, 'respondent_id']*one_19_99)\n",
        "total_row.append(sum_all_products.loc[1, 'respondent_id']*one_23_99)\n",
        "total_row"
      ],
      "metadata": {
        "colab": {
          "base_uri": "https://localhost:8080/"
        },
        "id": "oLm94a4BTGP3",
        "outputId": "f58acfe6-ac53-4a2c-8fcb-396e3f35a3a4"
      },
      "execution_count": 372,
      "outputs": [
        {
          "output_type": "execute_result",
          "data": {
            "text/plain": [
              "[225, 229, 203, 208, 14732.63, 18304.37]"
            ]
          },
          "metadata": {},
          "execution_count": 372
        }
      ]
    },
    {
      "cell_type": "markdown",
      "source": [
        "\n",
        "4. What is the sum of the values (in $) of “Tested brand” products purchased in the experience? \n"
      ],
      "metadata": {
        "id": "CRoTWqBnVD0-"
      }
    },
    {
      "cell_type": "code",
      "source": [
        "temporary = df.query('action == \"bought\" and brand ==  \"Tested brand\"') \\\n",
        ".pivot_table(index = 'category_test', values = 'respondent_id', aggfunc='count')"
      ],
      "metadata": {
        "id": "Z8nh1YFpTGSy"
      },
      "execution_count": 373,
      "outputs": []
    },
    {
      "cell_type": "code",
      "source": [
        "total_row.append(temporary.loc[0, 'respondent_id']*one_19_99)\n",
        "total_row.append(temporary.loc[1, 'respondent_id']*one_23_99)\n",
        "total_row"
      ],
      "metadata": {
        "colab": {
          "base_uri": "https://localhost:8080/"
        },
        "id": "ipPKKTx9TsIQ",
        "outputId": "38f36347-20ff-4285-855e-a93311650e35"
      },
      "execution_count": 374,
      "outputs": [
        {
          "output_type": "execute_result",
          "data": {
            "text/plain": [
              "[225, 229, 203, 208, 14732.63, 18304.37, 4457.7699999999995, 5685.629999999999]"
            ]
          },
          "metadata": {},
          "execution_count": 374
        }
      ]
    },
    {
      "cell_type": "markdown",
      "source": [
        "5. What is the market share of “Tested brand” in experience? "
      ],
      "metadata": {
        "id": "Y9gVcH1fTsLH"
      }
    },
    {
      "cell_type": "code",
      "source": [
        "total_row.append(temporary.loc[0, 'respondent_id']/sum_all_products.loc[0, 'respondent_id']*100)\n",
        "total_row.append(temporary.loc[1, 'respondent_id']/sum_all_products.loc[1, 'respondent_id']*100)\n",
        "total_row"
      ],
      "metadata": {
        "colab": {
          "base_uri": "https://localhost:8080/"
        },
        "id": "58ZzZamiTsOK",
        "outputId": "e23dd051-2172-44bc-fd07-4daf316dcc06"
      },
      "execution_count": 375,
      "outputs": [
        {
          "output_type": "execute_result",
          "data": {
            "text/plain": [
              "[225,\n",
              " 229,\n",
              " 203,\n",
              " 208,\n",
              " 14732.63,\n",
              " 18304.37,\n",
              " 4457.7699999999995,\n",
              " 5685.629999999999,\n",
              " 30.257801899592945,\n",
              " 31.061598951507207]"
            ]
          },
          "metadata": {},
          "execution_count": 375
        }
      ]
    },
    {
      "cell_type": "markdown",
      "source": [
        "#### Output: "
      ],
      "metadata": {
        "id": "k2_0XiIjKg1n"
      }
    },
    {
      "cell_type": "markdown",
      "source": [
        "Generate a table according to a given template for STEP 1 with the answers to 5 above questions for both experiments. \n",
        " "
      ],
      "metadata": {
        "id": "ZQSp5cZMKcvH"
      }
    },
    {
      "cell_type": "code",
      "source": [
        "table_step_1 = pd.DataFrame(np.array([['Number of unique people participated', total_row[0], total_row[1]], \n",
        "                               ['Unique people purchased “Tested brand”', total_row[2], total_row[3]],\n",
        "                             ['Total sum (in $) of all products', total_row[4], total_row[5]],\n",
        "                              ['Sum of the values (in $) of \"Tested brand\"', total_row[6].round(2), total_row[7].round(2)],\n",
        "                               ['Market share of “Tested brand”, %', total_row[8].round(2), total_row[9].round(2)]]),\n",
        "                   columns=['', 'Experiment 1 - Price 19.99', 'Experiment 2 - Price 23.99']).style.hide_index()"
      ],
      "metadata": {
        "id": "pZSxqcDjpn5u"
      },
      "execution_count": 376,
      "outputs": []
    },
    {
      "cell_type": "code",
      "source": [
        "table_step_1"
      ],
      "metadata": {
        "id": "OsoA41IEh6cU",
        "colab": {
          "base_uri": "https://localhost:8080/",
          "height": 206
        },
        "outputId": "9ed6e9bd-8df3-4182-816c-c1cd1196530e"
      },
      "execution_count": 377,
      "outputs": [
        {
          "output_type": "execute_result",
          "data": {
            "text/plain": [
              "<pandas.io.formats.style.Styler at 0x7ff89916db90>"
            ],
            "text/html": [
              "<style type=\"text/css\">\n",
              "</style>\n",
              "<table id=\"T_865c2_\" class=\"dataframe\">\n",
              "  <thead>\n",
              "    <tr>\n",
              "      <th class=\"col_heading level0 col0\" ></th>\n",
              "      <th class=\"col_heading level0 col1\" >Experiment 1 - Price 19.99</th>\n",
              "      <th class=\"col_heading level0 col2\" >Experiment 2 - Price 23.99</th>\n",
              "    </tr>\n",
              "  </thead>\n",
              "  <tbody>\n",
              "    <tr>\n",
              "      <td id=\"T_865c2_row0_col0\" class=\"data row0 col0\" >Number of unique people participated</td>\n",
              "      <td id=\"T_865c2_row0_col1\" class=\"data row0 col1\" >225</td>\n",
              "      <td id=\"T_865c2_row0_col2\" class=\"data row0 col2\" >229</td>\n",
              "    </tr>\n",
              "    <tr>\n",
              "      <td id=\"T_865c2_row1_col0\" class=\"data row1 col0\" >Unique people purchased “Tested brand”</td>\n",
              "      <td id=\"T_865c2_row1_col1\" class=\"data row1 col1\" >203</td>\n",
              "      <td id=\"T_865c2_row1_col2\" class=\"data row1 col2\" >208</td>\n",
              "    </tr>\n",
              "    <tr>\n",
              "      <td id=\"T_865c2_row2_col0\" class=\"data row2 col0\" >Total sum (in $) of all products</td>\n",
              "      <td id=\"T_865c2_row2_col1\" class=\"data row2 col1\" >14732.63</td>\n",
              "      <td id=\"T_865c2_row2_col2\" class=\"data row2 col2\" >18304.37</td>\n",
              "    </tr>\n",
              "    <tr>\n",
              "      <td id=\"T_865c2_row3_col0\" class=\"data row3 col0\" >Sum of the values (in $) of \"Tested brand\"</td>\n",
              "      <td id=\"T_865c2_row3_col1\" class=\"data row3 col1\" >4457.77</td>\n",
              "      <td id=\"T_865c2_row3_col2\" class=\"data row3 col2\" >5685.63</td>\n",
              "    </tr>\n",
              "    <tr>\n",
              "      <td id=\"T_865c2_row4_col0\" class=\"data row4 col0\" >Market share of “Tested brand”, %</td>\n",
              "      <td id=\"T_865c2_row4_col1\" class=\"data row4 col1\" >30.26</td>\n",
              "      <td id=\"T_865c2_row4_col2\" class=\"data row4 col2\" >31.06</td>\n",
              "    </tr>\n",
              "  </tbody>\n",
              "</table>\n"
            ]
          },
          "metadata": {},
          "execution_count": 377
        }
      ]
    },
    {
      "cell_type": "markdown",
      "source": [
        "# STEP 2  "
      ],
      "metadata": {
        "id": "-uQzcBHMK_i5"
      }
    },
    {
      "cell_type": "markdown",
      "source": [
        "1. What is the Category of the tested product “Tested brand Smart WIFI Plug In Scented Oil Starter Kit, 1 Warmer + 2 Refills – Fresh Linen”? \n"
      ],
      "metadata": {
        "id": "XRSujG4QLCDh"
      }
    },
    {
      "cell_type": "code",
      "source": [
        "print('The category is', df[df['product'] == \"Tested brand Smart WIFI Plug In Scented Oil Starter Kit, 1 Warmer + 2 Refills – Fresh Linen\"]['category'].unique())"
      ],
      "metadata": {
        "id": "MqQI9S5HzRTX",
        "colab": {
          "base_uri": "https://localhost:8080/"
        },
        "outputId": "e552ecbf-bc50-4840-931e-53fc66d5fe38"
      },
      "execution_count": 378,
      "outputs": [
        {
          "output_type": "stream",
          "name": "stdout",
          "text": [
            "The category is ['Starter Kit']\n"
          ]
        }
      ]
    },
    {
      "cell_type": "markdown",
      "source": [
        "2. What is the list of brands that sell products of the same category that was defined in 1) question? \n"
      ],
      "metadata": {
        "id": "m3oWXwWJYiy5"
      }
    },
    {
      "cell_type": "code",
      "source": [
        "print('The list of brands that sell products of the same category', df[df['category'] == \"Starter Kit\" ]['brand'].unique())\n"
      ],
      "metadata": {
        "id": "sGWTB2oa5GwO",
        "colab": {
          "base_uri": "https://localhost:8080/"
        },
        "outputId": "979c603c-e2ba-4a7a-8bdc-94d8cd394dc2"
      },
      "execution_count": 379,
      "outputs": [
        {
          "output_type": "stream",
          "name": "stdout",
          "text": [
            "The list of brands that sell products of the same category ['Tested brand' 'Febreze' 'Glade' 'Botanica']\n"
          ]
        }
      ]
    },
    {
      "cell_type": "markdown",
      "source": [
        "3. What are the answers to the 5 questions from STEP 1 for each of the brands defined in 2) question from STEP 2?"
      ],
      "metadata": {
        "id": "lYlVJtwhYoLe"
      }
    },
    {
      "cell_type": "markdown",
      "source": [
        "###Febreze"
      ],
      "metadata": {
        "id": "0ujVtROL5_ih"
      }
    },
    {
      "cell_type": "markdown",
      "source": [
        "1. How many unique people participated in the experience in total? \n"
      ],
      "metadata": {
        "id": "8iAFhOG6Y7fc"
      }
    },
    {
      "cell_type": "code",
      "source": [
        "total_row = []"
      ],
      "metadata": {
        "id": "gu4JpkMXY7fd"
      },
      "execution_count": 380,
      "outputs": []
    },
    {
      "cell_type": "code",
      "source": [
        "temporary = df.query('brand ==  \"Febreze\"') \\\n",
        ".pivot_table(index = 'category_test', values = 'respondent_id', aggfunc=pd.Series.nunique)"
      ],
      "metadata": {
        "id": "Gc-ic3GjY7fd"
      },
      "execution_count": 381,
      "outputs": []
    },
    {
      "cell_type": "code",
      "source": [
        "total_row.append(temporary.loc[0, 'respondent_id'])\n",
        "total_row.append(temporary.loc[1, 'respondent_id'])\n",
        "total_row"
      ],
      "metadata": {
        "colab": {
          "base_uri": "https://localhost:8080/"
        },
        "outputId": "531b7d0b-07b0-4a0d-bf5a-a70f7b565c42",
        "id": "j0A5lEz2Y7fd"
      },
      "execution_count": 382,
      "outputs": [
        {
          "output_type": "execute_result",
          "data": {
            "text/plain": [
              "[207, 233]"
            ]
          },
          "metadata": {},
          "execution_count": 382
        }
      ]
    },
    {
      "cell_type": "markdown",
      "source": [
        "2. How many unique people purchased “Febreze” products in the experience if “purchase” condition is “Action” == “bought”? "
      ],
      "metadata": {
        "id": "Xu5UehxaY7fd"
      }
    },
    {
      "cell_type": "code",
      "source": [
        "temporary = df.query('action == \"bought\" and brand ==  \"Febreze\"') \\\n",
        ".pivot_table(index = 'category_test', values = 'respondent_id', aggfunc=pd.Series.nunique)"
      ],
      "metadata": {
        "id": "9KFgm6poY7fd"
      },
      "execution_count": 383,
      "outputs": []
    },
    {
      "cell_type": "code",
      "source": [
        "total_row.append(temporary.loc[0, 'respondent_id'])\n",
        "total_row.append(temporary.loc[1, 'respondent_id'])\n",
        "total_row"
      ],
      "metadata": {
        "colab": {
          "base_uri": "https://localhost:8080/"
        },
        "outputId": "af2728e7-e25c-457d-e99a-20dfa5f7d566",
        "id": "5yEbXX8NY7fd"
      },
      "execution_count": 384,
      "outputs": [
        {
          "output_type": "execute_result",
          "data": {
            "text/plain": [
              "[207, 233, 182, 201]"
            ]
          },
          "metadata": {},
          "execution_count": 384
        }
      ]
    },
    {
      "cell_type": "markdown",
      "source": [
        "3. What is the sum of the values (in $) of all products purchased in the experience? "
      ],
      "metadata": {
        "id": "aNyqHF1vY7fe"
      }
    },
    {
      "cell_type": "code",
      "source": [
        "one_19_99 = 19.99\n",
        "one_23_99 = 23.99"
      ],
      "metadata": {
        "id": "zzJYK1cpY7fe"
      },
      "execution_count": 385,
      "outputs": []
    },
    {
      "cell_type": "code",
      "source": [
        "sum_all_products = df.query('action == \"bought\"') \\\n",
        ".pivot_table(index = 'category_test', values = 'respondent_id', aggfunc='count')"
      ],
      "metadata": {
        "id": "S1cMdXAEY7fe"
      },
      "execution_count": 386,
      "outputs": []
    },
    {
      "cell_type": "code",
      "source": [
        "total_row.append(sum_all_products.loc[0, 'respondent_id']*one_19_99)\n",
        "total_row.append(sum_all_products.loc[1, 'respondent_id']*one_23_99)\n",
        "total_row"
      ],
      "metadata": {
        "colab": {
          "base_uri": "https://localhost:8080/"
        },
        "outputId": "725c0e86-4a92-41d1-9402-4d69fd2bf51d",
        "id": "rS3uSTNJY7fe"
      },
      "execution_count": 387,
      "outputs": [
        {
          "output_type": "execute_result",
          "data": {
            "text/plain": [
              "[207, 233, 182, 201, 14732.63, 18304.37]"
            ]
          },
          "metadata": {},
          "execution_count": 387
        }
      ]
    },
    {
      "cell_type": "markdown",
      "source": [
        "\n",
        "4. What is the sum of the values (in $) of “Febreze” products purchased in the experience? \n"
      ],
      "metadata": {
        "id": "9WdmzZ7SY7fe"
      }
    },
    {
      "cell_type": "code",
      "source": [
        "temporary = df.query('action == \"bought\" and brand ==  \"Febreze\"') \\\n",
        ".pivot_table(index = 'category_test', values = 'respondent_id', aggfunc='count')"
      ],
      "metadata": {
        "id": "X7b0s4FrY7fe"
      },
      "execution_count": 388,
      "outputs": []
    },
    {
      "cell_type": "code",
      "source": [
        "total_row.append(temporary.loc[0, 'respondent_id']*one_19_99)\n",
        "total_row.append(temporary.loc[1, 'respondent_id']*one_23_99)\n",
        "total_row"
      ],
      "metadata": {
        "colab": {
          "base_uri": "https://localhost:8080/"
        },
        "outputId": "81c7218b-8b78-47a0-a1b2-4971f66da960",
        "id": "fJjWyjwwY7fe"
      },
      "execution_count": 389,
      "outputs": [
        {
          "output_type": "execute_result",
          "data": {
            "text/plain": [
              "[207, 233, 182, 201, 14732.63, 18304.37, 4217.889999999999, 5685.629999999999]"
            ]
          },
          "metadata": {},
          "execution_count": 389
        }
      ]
    },
    {
      "cell_type": "markdown",
      "source": [
        "5. What is the market share of “Febreze” in experience? "
      ],
      "metadata": {
        "id": "Vi07UxJdY7fe"
      }
    },
    {
      "cell_type": "code",
      "source": [
        "total_row.append(temporary.loc[0, 'respondent_id']/sum_all_products.loc[0, 'respondent_id']*100)\n",
        "total_row.append(temporary.loc[1, 'respondent_id']/sum_all_products.loc[1, 'respondent_id']*100)\n",
        "total_row"
      ],
      "metadata": {
        "colab": {
          "base_uri": "https://localhost:8080/"
        },
        "outputId": "2dd34e4e-6a53-4044-a7f4-1bbb2e136e9e",
        "id": "MmE8RZmPY7ff"
      },
      "execution_count": 390,
      "outputs": [
        {
          "output_type": "execute_result",
          "data": {
            "text/plain": [
              "[207,\n",
              " 233,\n",
              " 182,\n",
              " 201,\n",
              " 14732.63,\n",
              " 18304.37,\n",
              " 4217.889999999999,\n",
              " 5685.629999999999,\n",
              " 28.62957937584803,\n",
              " 31.061598951507207]"
            ]
          },
          "metadata": {},
          "execution_count": 390
        }
      ]
    },
    {
      "cell_type": "markdown",
      "source": [
        "#### Output: "
      ],
      "metadata": {
        "id": "v8k9yXHlY7ff"
      }
    },
    {
      "cell_type": "markdown",
      "source": [
        "Generate a table according to a given template for STEP 1 with the answers to 5 above questions for both experiments. \n",
        " "
      ],
      "metadata": {
        "id": "4XBA9wf4Y7ff"
      }
    },
    {
      "cell_type": "code",
      "source": [
        "\n",
        "\n",
        "table_step_2 = pd.DataFrame(np.array([['The category of the tested product', 'Starter Kit', ''], ['Number of unique people participated', total_row[0], total_row[1]], \n",
        "                               ['Unique people purchased “Febreze”', total_row[2], total_row[3]],\n",
        "                             ['Total sum (in $) of all products', total_row[4], total_row[5]],\n",
        "                              ['Sum of the values (in $) of \"Febreze\"', total_row[6].round(2), total_row[7].round(2)],\n",
        "                               ['Market share of “Febreze”, %', total_row[8].round(2), total_row[9].round(2)]]),\n",
        "                   columns=['', 'Experiment 1 - Price 19.99', 'Experiment 2 - Price 23.99']).style.hide_index()"
      ],
      "metadata": {
        "id": "WpSUce96Y7ff"
      },
      "execution_count": 391,
      "outputs": []
    },
    {
      "cell_type": "code",
      "source": [
        "table_step_2"
      ],
      "metadata": {
        "colab": {
          "base_uri": "https://localhost:8080/",
          "height": 237
        },
        "outputId": "aecbe7e8-24f7-4824-bfee-737eed08c620",
        "id": "If5f55dfY7ff"
      },
      "execution_count": 392,
      "outputs": [
        {
          "output_type": "execute_result",
          "data": {
            "text/plain": [
              "<pandas.io.formats.style.Styler at 0x7ff89916dd50>"
            ],
            "text/html": [
              "<style type=\"text/css\">\n",
              "</style>\n",
              "<table id=\"T_f04f2_\" class=\"dataframe\">\n",
              "  <thead>\n",
              "    <tr>\n",
              "      <th class=\"col_heading level0 col0\" ></th>\n",
              "      <th class=\"col_heading level0 col1\" >Experiment 1 - Price 19.99</th>\n",
              "      <th class=\"col_heading level0 col2\" >Experiment 2 - Price 23.99</th>\n",
              "    </tr>\n",
              "  </thead>\n",
              "  <tbody>\n",
              "    <tr>\n",
              "      <td id=\"T_f04f2_row0_col0\" class=\"data row0 col0\" >The category of the tested product</td>\n",
              "      <td id=\"T_f04f2_row0_col1\" class=\"data row0 col1\" >Starter Kit</td>\n",
              "      <td id=\"T_f04f2_row0_col2\" class=\"data row0 col2\" ></td>\n",
              "    </tr>\n",
              "    <tr>\n",
              "      <td id=\"T_f04f2_row1_col0\" class=\"data row1 col0\" >Number of unique people participated</td>\n",
              "      <td id=\"T_f04f2_row1_col1\" class=\"data row1 col1\" >207</td>\n",
              "      <td id=\"T_f04f2_row1_col2\" class=\"data row1 col2\" >233</td>\n",
              "    </tr>\n",
              "    <tr>\n",
              "      <td id=\"T_f04f2_row2_col0\" class=\"data row2 col0\" >Unique people purchased “Febreze”</td>\n",
              "      <td id=\"T_f04f2_row2_col1\" class=\"data row2 col1\" >182</td>\n",
              "      <td id=\"T_f04f2_row2_col2\" class=\"data row2 col2\" >201</td>\n",
              "    </tr>\n",
              "    <tr>\n",
              "      <td id=\"T_f04f2_row3_col0\" class=\"data row3 col0\" >Total sum (in $) of all products</td>\n",
              "      <td id=\"T_f04f2_row3_col1\" class=\"data row3 col1\" >14732.63</td>\n",
              "      <td id=\"T_f04f2_row3_col2\" class=\"data row3 col2\" >18304.37</td>\n",
              "    </tr>\n",
              "    <tr>\n",
              "      <td id=\"T_f04f2_row4_col0\" class=\"data row4 col0\" >Sum of the values (in $) of \"Febreze\"</td>\n",
              "      <td id=\"T_f04f2_row4_col1\" class=\"data row4 col1\" >4217.89</td>\n",
              "      <td id=\"T_f04f2_row4_col2\" class=\"data row4 col2\" >5685.63</td>\n",
              "    </tr>\n",
              "    <tr>\n",
              "      <td id=\"T_f04f2_row5_col0\" class=\"data row5 col0\" >Market share of “Febreze”, %</td>\n",
              "      <td id=\"T_f04f2_row5_col1\" class=\"data row5 col1\" >28.63</td>\n",
              "      <td id=\"T_f04f2_row5_col2\" class=\"data row5 col2\" >31.06</td>\n",
              "    </tr>\n",
              "  </tbody>\n",
              "</table>\n"
            ]
          },
          "metadata": {},
          "execution_count": 392
        }
      ]
    },
    {
      "cell_type": "markdown",
      "source": [
        "###Glade\n"
      ],
      "metadata": {
        "id": "ngikscrIF7o_"
      }
    },
    {
      "cell_type": "markdown",
      "source": [
        "1. How many unique people participated in the experience in total? \n"
      ],
      "metadata": {
        "id": "YlUXGz5JeMD3"
      }
    },
    {
      "cell_type": "code",
      "source": [
        "total_row = []"
      ],
      "metadata": {
        "id": "jLnq48ereMD3"
      },
      "execution_count": 393,
      "outputs": []
    },
    {
      "cell_type": "code",
      "source": [
        "temporary = df.query('brand ==  \"Glade\"') \\\n",
        ".pivot_table(index = 'category_test', values = 'respondent_id', aggfunc=pd.Series.nunique)"
      ],
      "metadata": {
        "id": "kMksfMMNeMD3"
      },
      "execution_count": 394,
      "outputs": []
    },
    {
      "cell_type": "code",
      "source": [
        "total_row.append(temporary.loc[0, 'respondent_id'])\n",
        "total_row.append(temporary.loc[1, 'respondent_id'])\n",
        "total_row"
      ],
      "metadata": {
        "colab": {
          "base_uri": "https://localhost:8080/"
        },
        "id": "fqWywlVheMD3",
        "outputId": "95ef0f21-07ad-4fb5-ffd9-86c6e6a6d127"
      },
      "execution_count": 395,
      "outputs": [
        {
          "output_type": "execute_result",
          "data": {
            "text/plain": [
              "[216, 220]"
            ]
          },
          "metadata": {},
          "execution_count": 395
        }
      ]
    },
    {
      "cell_type": "markdown",
      "source": [
        "2. How many unique people purchased “Glade” products in the experience if “purchase” condition is “Action” == “bought”? "
      ],
      "metadata": {
        "id": "tF0oji9veMD4"
      }
    },
    {
      "cell_type": "code",
      "source": [
        "temporary = df.query('action == \"bought\" and brand ==  \"Glade\"') \\\n",
        ".pivot_table(index = 'category_test', values = 'respondent_id', aggfunc=pd.Series.nunique)"
      ],
      "metadata": {
        "id": "MCXyk0I8eMD4"
      },
      "execution_count": 396,
      "outputs": []
    },
    {
      "cell_type": "code",
      "source": [
        "total_row.append(temporary.loc[0, 'respondent_id'])\n",
        "total_row.append(temporary.loc[1, 'respondent_id'])\n",
        "total_row"
      ],
      "metadata": {
        "colab": {
          "base_uri": "https://localhost:8080/"
        },
        "id": "Ky74enHCeMD4",
        "outputId": "03ede72d-cd3b-41a0-d05d-ff9604e7a875"
      },
      "execution_count": 397,
      "outputs": [
        {
          "output_type": "execute_result",
          "data": {
            "text/plain": [
              "[216, 220, 196, 183]"
            ]
          },
          "metadata": {},
          "execution_count": 397
        }
      ]
    },
    {
      "cell_type": "markdown",
      "source": [
        "3. What is the sum of the values (in $) of all products purchased in the experience? "
      ],
      "metadata": {
        "id": "tJ3nVI_LeMD4"
      }
    },
    {
      "cell_type": "code",
      "source": [
        "one_19_99 = 19.99\n",
        "one_23_99 = 23.99"
      ],
      "metadata": {
        "id": "Xcv-o492eMD4"
      },
      "execution_count": 398,
      "outputs": []
    },
    {
      "cell_type": "code",
      "source": [
        "sum_all_products = df.query('action == \"bought\"') \\\n",
        ".pivot_table(index = 'category_test', values = 'respondent_id', aggfunc='count')"
      ],
      "metadata": {
        "id": "1hxkoQFzeMD4"
      },
      "execution_count": 399,
      "outputs": []
    },
    {
      "cell_type": "code",
      "source": [
        "total_row.append(sum_all_products.loc[0, 'respondent_id']*one_19_99)\n",
        "total_row.append(sum_all_products.loc[1, 'respondent_id']*one_23_99)\n",
        "total_row"
      ],
      "metadata": {
        "colab": {
          "base_uri": "https://localhost:8080/"
        },
        "id": "KOeofzEQeMD4",
        "outputId": "3551fb67-b82d-450e-ae2a-7d67fbe44e65"
      },
      "execution_count": 400,
      "outputs": [
        {
          "output_type": "execute_result",
          "data": {
            "text/plain": [
              "[216, 220, 196, 183, 14732.63, 18304.37]"
            ]
          },
          "metadata": {},
          "execution_count": 400
        }
      ]
    },
    {
      "cell_type": "markdown",
      "source": [
        "\n",
        "4. What is the sum of the values (in $) of “Glade” products purchased in the experience? \n"
      ],
      "metadata": {
        "id": "mJSGBsI1eMD4"
      }
    },
    {
      "cell_type": "code",
      "source": [
        "temporary = df.query('action == \"bought\" and brand ==  \"Glade\"') \\\n",
        ".pivot_table(index = 'category_test', values = 'respondent_id', aggfunc='count')"
      ],
      "metadata": {
        "id": "YHQMJB8ReMD4"
      },
      "execution_count": 401,
      "outputs": []
    },
    {
      "cell_type": "code",
      "source": [
        "total_row.append(temporary.loc[0, 'respondent_id']*one_19_99)\n",
        "total_row.append(temporary.loc[1, 'respondent_id']*one_23_99)\n",
        "total_row"
      ],
      "metadata": {
        "colab": {
          "base_uri": "https://localhost:8080/"
        },
        "id": "Mjv3614DeMD5",
        "outputId": "4c0eb1a6-e947-47d7-eda0-95ab55ed51ff"
      },
      "execution_count": 402,
      "outputs": [
        {
          "output_type": "execute_result",
          "data": {
            "text/plain": [
              "[216, 220, 196, 183, 14732.63, 18304.37, 4537.73, 4917.95]"
            ]
          },
          "metadata": {},
          "execution_count": 402
        }
      ]
    },
    {
      "cell_type": "markdown",
      "source": [
        "5. What is the market share of “Glade” in experience? "
      ],
      "metadata": {
        "id": "fnCZyq-yeMD5"
      }
    },
    {
      "cell_type": "code",
      "source": [
        "total_row.append(temporary.loc[0, 'respondent_id']/sum_all_products.loc[0, 'respondent_id']*100)\n",
        "total_row.append(temporary.loc[1, 'respondent_id']/sum_all_products.loc[1, 'respondent_id']*100)\n",
        "total_row"
      ],
      "metadata": {
        "colab": {
          "base_uri": "https://localhost:8080/"
        },
        "id": "UqDuxZfWeMD5",
        "outputId": "602a6cb6-ecdd-4bb5-85ce-25dede0587f6"
      },
      "execution_count": 403,
      "outputs": [
        {
          "output_type": "execute_result",
          "data": {
            "text/plain": [
              "[216,\n",
              " 220,\n",
              " 196,\n",
              " 183,\n",
              " 14732.63,\n",
              " 18304.37,\n",
              " 4537.73,\n",
              " 4917.95,\n",
              " 30.800542740841248,\n",
              " 26.86762778505898]"
            ]
          },
          "metadata": {},
          "execution_count": 403
        }
      ]
    },
    {
      "cell_type": "markdown",
      "source": [
        "#### Output: "
      ],
      "metadata": {
        "id": "hghXevd3eMD5"
      }
    },
    {
      "cell_type": "markdown",
      "source": [
        "Generate a table according to a given template for STEP 1 with the answers to 5 above questions for both experiments. \n",
        " "
      ],
      "metadata": {
        "id": "7LFAWSs2eMD5"
      }
    },
    {
      "cell_type": "code",
      "source": [
        "table_step_3 = pd.DataFrame(np.array([['Number of unique people participated', total_row[0], total_row[1]], \n",
        "                               ['Unique people purchased “Glade”', total_row[2], total_row[3]],\n",
        "                             ['Total sum (in $) of all products', total_row[4], total_row[5]],\n",
        "                              ['Sum of the values (in $) of \"Glade\"', total_row[6].round(2), total_row[7].round(2)],\n",
        "                               ['Market share of “Glade”, %', total_row[8].round(2), total_row[9].round(2)]]),\n",
        "                   columns=['', 'Experiment 1 - Price 19.99', 'Experiment 2 - Price 23.99']).style.hide_index()"
      ],
      "metadata": {
        "id": "AoZPMcDjeMD5"
      },
      "execution_count": 404,
      "outputs": []
    },
    {
      "cell_type": "code",
      "source": [
        "table_step_3"
      ],
      "metadata": {
        "colab": {
          "base_uri": "https://localhost:8080/",
          "height": 206
        },
        "id": "WY3nb44_eMD5",
        "outputId": "88aa9335-4405-48f5-9473-303f59c59861"
      },
      "execution_count": 405,
      "outputs": [
        {
          "output_type": "execute_result",
          "data": {
            "text/plain": [
              "<pandas.io.formats.style.Styler at 0x7ff89981fed0>"
            ],
            "text/html": [
              "<style type=\"text/css\">\n",
              "</style>\n",
              "<table id=\"T_090a0_\" class=\"dataframe\">\n",
              "  <thead>\n",
              "    <tr>\n",
              "      <th class=\"col_heading level0 col0\" ></th>\n",
              "      <th class=\"col_heading level0 col1\" >Experiment 1 - Price 19.99</th>\n",
              "      <th class=\"col_heading level0 col2\" >Experiment 2 - Price 23.99</th>\n",
              "    </tr>\n",
              "  </thead>\n",
              "  <tbody>\n",
              "    <tr>\n",
              "      <td id=\"T_090a0_row0_col0\" class=\"data row0 col0\" >Number of unique people participated</td>\n",
              "      <td id=\"T_090a0_row0_col1\" class=\"data row0 col1\" >216</td>\n",
              "      <td id=\"T_090a0_row0_col2\" class=\"data row0 col2\" >220</td>\n",
              "    </tr>\n",
              "    <tr>\n",
              "      <td id=\"T_090a0_row1_col0\" class=\"data row1 col0\" >Unique people purchased “Glade”</td>\n",
              "      <td id=\"T_090a0_row1_col1\" class=\"data row1 col1\" >196</td>\n",
              "      <td id=\"T_090a0_row1_col2\" class=\"data row1 col2\" >183</td>\n",
              "    </tr>\n",
              "    <tr>\n",
              "      <td id=\"T_090a0_row2_col0\" class=\"data row2 col0\" >Total sum (in $) of all products</td>\n",
              "      <td id=\"T_090a0_row2_col1\" class=\"data row2 col1\" >14732.63</td>\n",
              "      <td id=\"T_090a0_row2_col2\" class=\"data row2 col2\" >18304.37</td>\n",
              "    </tr>\n",
              "    <tr>\n",
              "      <td id=\"T_090a0_row3_col0\" class=\"data row3 col0\" >Sum of the values (in $) of \"Glade\"</td>\n",
              "      <td id=\"T_090a0_row3_col1\" class=\"data row3 col1\" >4537.73</td>\n",
              "      <td id=\"T_090a0_row3_col2\" class=\"data row3 col2\" >4917.95</td>\n",
              "    </tr>\n",
              "    <tr>\n",
              "      <td id=\"T_090a0_row4_col0\" class=\"data row4 col0\" >Market share of “Glade”, %</td>\n",
              "      <td id=\"T_090a0_row4_col1\" class=\"data row4 col1\" >30.8</td>\n",
              "      <td id=\"T_090a0_row4_col2\" class=\"data row4 col2\" >26.87</td>\n",
              "    </tr>\n",
              "  </tbody>\n",
              "</table>\n"
            ]
          },
          "metadata": {},
          "execution_count": 405
        }
      ]
    },
    {
      "cell_type": "markdown",
      "source": [
        "###Botanica"
      ],
      "metadata": {
        "id": "dNzrYwegIlFO"
      }
    },
    {
      "cell_type": "markdown",
      "source": [
        "1. How many unique people participated in the experience in total? \n"
      ],
      "metadata": {
        "id": "q8AvfvEafCi9"
      }
    },
    {
      "cell_type": "code",
      "source": [
        "total_row = []"
      ],
      "metadata": {
        "id": "WOCFdxzGfCi-"
      },
      "execution_count": 406,
      "outputs": []
    },
    {
      "cell_type": "code",
      "source": [
        "temporary = df.query('brand ==  \"Botanica\"') \\\n",
        ".pivot_table(index = 'category_test', values = 'respondent_id', aggfunc=pd.Series.nunique)"
      ],
      "metadata": {
        "id": "Y41LmLP3fCi-"
      },
      "execution_count": 407,
      "outputs": []
    },
    {
      "cell_type": "code",
      "source": [
        "total_row.append(temporary.loc[0, 'respondent_id'])\n",
        "total_row.append(temporary.loc[1, 'respondent_id'])\n",
        "total_row"
      ],
      "metadata": {
        "colab": {
          "base_uri": "https://localhost:8080/"
        },
        "outputId": "f8ec91c0-f313-40da-ed4a-90e8469265e0",
        "id": "oy__Na6tfCi-"
      },
      "execution_count": 408,
      "outputs": [
        {
          "output_type": "execute_result",
          "data": {
            "text/plain": [
              "[59, 60]"
            ]
          },
          "metadata": {},
          "execution_count": 408
        }
      ]
    },
    {
      "cell_type": "markdown",
      "source": [
        "2. How many unique people purchased “Botanica” products in the experience if “purchase” condition is “Action” == “bought”? "
      ],
      "metadata": {
        "id": "gYTe-iQGfCi-"
      }
    },
    {
      "cell_type": "code",
      "source": [
        "temporary = df.query('action == \"bought\" and brand ==  \"Botanica\"') \\\n",
        ".pivot_table(index = 'category_test', values = 'respondent_id', aggfunc=pd.Series.nunique)"
      ],
      "metadata": {
        "id": "uro-fgm1fCi-"
      },
      "execution_count": 409,
      "outputs": []
    },
    {
      "cell_type": "code",
      "source": [
        "total_row.append(temporary.loc[0, 'respondent_id'])\n",
        "total_row.append(temporary.loc[1, 'respondent_id'])\n",
        "total_row"
      ],
      "metadata": {
        "colab": {
          "base_uri": "https://localhost:8080/"
        },
        "outputId": "7c9ea6e0-8c86-4dc3-cbef-6a13dc6d510d",
        "id": "AH_1SEl9fCi-"
      },
      "execution_count": 410,
      "outputs": [
        {
          "output_type": "execute_result",
          "data": {
            "text/plain": [
              "[59, 60, 54, 53]"
            ]
          },
          "metadata": {},
          "execution_count": 410
        }
      ]
    },
    {
      "cell_type": "markdown",
      "source": [
        "3. What is the sum of the values (in $) of all products purchased in the experience? "
      ],
      "metadata": {
        "id": "M6iOO3OBfCi_"
      }
    },
    {
      "cell_type": "code",
      "source": [
        "one_19_99 = 19.99\n",
        "one_23_99 = 23.99"
      ],
      "metadata": {
        "id": "yvBX8I8bfCi_"
      },
      "execution_count": 411,
      "outputs": []
    },
    {
      "cell_type": "code",
      "source": [
        "sum_all_products = df.query('action == \"bought\"') \\\n",
        ".pivot_table(index = 'category_test', values = 'respondent_id', aggfunc='count')"
      ],
      "metadata": {
        "id": "uepxIvP6fCi_"
      },
      "execution_count": 412,
      "outputs": []
    },
    {
      "cell_type": "code",
      "source": [
        "total_row.append(sum_all_products.loc[0, 'respondent_id']*one_19_99)\n",
        "total_row.append(sum_all_products.loc[1, 'respondent_id']*one_23_99)\n",
        "total_row"
      ],
      "metadata": {
        "colab": {
          "base_uri": "https://localhost:8080/"
        },
        "outputId": "98b47b22-22ed-4c5f-e8fe-d516d7b57f67",
        "id": "oVKCDMaifCi_"
      },
      "execution_count": 413,
      "outputs": [
        {
          "output_type": "execute_result",
          "data": {
            "text/plain": [
              "[59, 60, 54, 53, 14732.63, 18304.37]"
            ]
          },
          "metadata": {},
          "execution_count": 413
        }
      ]
    },
    {
      "cell_type": "markdown",
      "source": [
        "\n",
        "4. What is the sum of the values (in $) of “Glade” products purchased in the experience? \n"
      ],
      "metadata": {
        "id": "IdyiVWB0fCi_"
      }
    },
    {
      "cell_type": "code",
      "source": [
        "temporary = df.query('action == \"bought\" and brand ==  \"Botanica\"') \\\n",
        ".pivot_table(index = 'category_test', values = 'respondent_id', aggfunc='count')"
      ],
      "metadata": {
        "id": "UJpHZS1ZfCi_"
      },
      "execution_count": 414,
      "outputs": []
    },
    {
      "cell_type": "code",
      "source": [
        "total_row.append(temporary.loc[0, 'respondent_id']*one_19_99)\n",
        "total_row.append(temporary.loc[1, 'respondent_id']*one_23_99)\n",
        "total_row"
      ],
      "metadata": {
        "colab": {
          "base_uri": "https://localhost:8080/"
        },
        "outputId": "6601e8cf-996b-436f-bdba-a4c6ce96c374",
        "id": "2_o72pkFfCi_"
      },
      "execution_count": 415,
      "outputs": [
        {
          "output_type": "execute_result",
          "data": {
            "text/plain": [
              "[59, 60, 54, 53, 14732.63, 18304.37, 1199.3999999999999, 1583.34]"
            ]
          },
          "metadata": {},
          "execution_count": 415
        }
      ]
    },
    {
      "cell_type": "markdown",
      "source": [
        "5. What is the market share of “Botanica” in experience? "
      ],
      "metadata": {
        "id": "ahgMIA0vfCi_"
      }
    },
    {
      "cell_type": "code",
      "source": [
        "total_row.append(temporary.loc[0, 'respondent_id']/sum_all_products.loc[0, 'respondent_id']*100)\n",
        "total_row.append(temporary.loc[1, 'respondent_id']/sum_all_products.loc[1, 'respondent_id']*100)\n",
        "total_row"
      ],
      "metadata": {
        "colab": {
          "base_uri": "https://localhost:8080/"
        },
        "outputId": "5063dbb3-4053-4b14-8297-83bca4e8dbb8",
        "id": "_dPZ4a9SfCjA"
      },
      "execution_count": 416,
      "outputs": [
        {
          "output_type": "execute_result",
          "data": {
            "text/plain": [
              "[59,\n",
              " 60,\n",
              " 54,\n",
              " 53,\n",
              " 14732.63,\n",
              " 18304.37,\n",
              " 1199.3999999999999,\n",
              " 1583.34,\n",
              " 8.14111261872456,\n",
              " 8.650065530799477]"
            ]
          },
          "metadata": {},
          "execution_count": 416
        }
      ]
    },
    {
      "cell_type": "markdown",
      "source": [
        "#### Output: "
      ],
      "metadata": {
        "id": "z3CURhLOfCjA"
      }
    },
    {
      "cell_type": "markdown",
      "source": [
        "Generate a table according to a given template for STEP 1 with the answers to 5 above questions for both experiments. \n",
        " "
      ],
      "metadata": {
        "id": "vByz0aRHfCjA"
      }
    },
    {
      "cell_type": "code",
      "source": [
        "table_step_4 = pd.DataFrame(np.array([['Number of unique people participated', total_row[0], total_row[1]], \n",
        "                               ['Unique people purchased “Botanica”', total_row[2], total_row[3]],\n",
        "                             ['Total sum (in $) of all products', total_row[4], total_row[5]],\n",
        "                              ['Sum of the values (in $) of \"Botanica\"', total_row[6].round(2), total_row[7].round(2)],\n",
        "                               ['Market share of “Botanica”, %', total_row[8].round(2), total_row[9].round(2)]]),\n",
        "                   columns=['', 'Experiment 1 - Price 19.99', 'Experiment 2 - Price 23.99']).style.hide_index()"
      ],
      "metadata": {
        "id": "OvfG5439fCjA"
      },
      "execution_count": 417,
      "outputs": []
    },
    {
      "cell_type": "code",
      "source": [
        "table_step_4"
      ],
      "metadata": {
        "colab": {
          "base_uri": "https://localhost:8080/",
          "height": 206
        },
        "outputId": "447548f4-34ab-4f45-d4fe-a18747f0162d",
        "id": "hAeBi7HIfCjA"
      },
      "execution_count": 418,
      "outputs": [
        {
          "output_type": "execute_result",
          "data": {
            "text/plain": [
              "<pandas.io.formats.style.Styler at 0x7ff89913b250>"
            ],
            "text/html": [
              "<style type=\"text/css\">\n",
              "</style>\n",
              "<table id=\"T_955fa_\" class=\"dataframe\">\n",
              "  <thead>\n",
              "    <tr>\n",
              "      <th class=\"col_heading level0 col0\" ></th>\n",
              "      <th class=\"col_heading level0 col1\" >Experiment 1 - Price 19.99</th>\n",
              "      <th class=\"col_heading level0 col2\" >Experiment 2 - Price 23.99</th>\n",
              "    </tr>\n",
              "  </thead>\n",
              "  <tbody>\n",
              "    <tr>\n",
              "      <td id=\"T_955fa_row0_col0\" class=\"data row0 col0\" >Number of unique people participated</td>\n",
              "      <td id=\"T_955fa_row0_col1\" class=\"data row0 col1\" >59</td>\n",
              "      <td id=\"T_955fa_row0_col2\" class=\"data row0 col2\" >60</td>\n",
              "    </tr>\n",
              "    <tr>\n",
              "      <td id=\"T_955fa_row1_col0\" class=\"data row1 col0\" >Unique people purchased “Botanica”</td>\n",
              "      <td id=\"T_955fa_row1_col1\" class=\"data row1 col1\" >54</td>\n",
              "      <td id=\"T_955fa_row1_col2\" class=\"data row1 col2\" >53</td>\n",
              "    </tr>\n",
              "    <tr>\n",
              "      <td id=\"T_955fa_row2_col0\" class=\"data row2 col0\" >Total sum (in $) of all products</td>\n",
              "      <td id=\"T_955fa_row2_col1\" class=\"data row2 col1\" >14732.63</td>\n",
              "      <td id=\"T_955fa_row2_col2\" class=\"data row2 col2\" >18304.37</td>\n",
              "    </tr>\n",
              "    <tr>\n",
              "      <td id=\"T_955fa_row3_col0\" class=\"data row3 col0\" >Sum of the values (in $) of \"Botanica\"</td>\n",
              "      <td id=\"T_955fa_row3_col1\" class=\"data row3 col1\" >1199.4</td>\n",
              "      <td id=\"T_955fa_row3_col2\" class=\"data row3 col2\" >1583.34</td>\n",
              "    </tr>\n",
              "    <tr>\n",
              "      <td id=\"T_955fa_row4_col0\" class=\"data row4 col0\" >Market share of “Botanica”, %</td>\n",
              "      <td id=\"T_955fa_row4_col1\" class=\"data row4 col1\" >8.14</td>\n",
              "      <td id=\"T_955fa_row4_col2\" class=\"data row4 col2\" >8.65</td>\n",
              "    </tr>\n",
              "  </tbody>\n",
              "</table>\n"
            ]
          },
          "metadata": {},
          "execution_count": 418
        }
      ]
    },
    {
      "cell_type": "markdown",
      "source": [
        "# STEP 3 "
      ],
      "metadata": {
        "id": "dnEg7Id4L2Sj"
      }
    },
    {
      "cell_type": "markdown",
      "source": [
        "#List of age groups\n"
      ],
      "metadata": {
        "id": "RWiddVgtK7NI"
      }
    },
    {
      "cell_type": "markdown",
      "source": [
        "1. What are age groups according to QD2 in profiles file? \n"
      ],
      "metadata": {
        "id": "ktUctkuTL4Hz"
      }
    },
    {
      "cell_type": "code",
      "source": [
        "df['qd2_age'].unique()"
      ],
      "metadata": {
        "id": "3DqhGD_LMqVH",
        "colab": {
          "base_uri": "https://localhost:8080/"
        },
        "outputId": "77f21db6-ce57-4c90-c164-1b59820eaabb"
      },
      "execution_count": 419,
      "outputs": [
        {
          "output_type": "execute_result",
          "data": {
            "text/plain": [
              "array(['40 – 49', '50 – 55', '30 – 39', '22 – 29'], dtype=object)"
            ]
          },
          "metadata": {},
          "execution_count": 419
        }
      ]
    },
    {
      "cell_type": "markdown",
      "source": [
        "2. What are the answers to the 5 questions from STEP 1 for each of the age groups defined? "
      ],
      "metadata": {
        "id": "fzn5TUKJfm5F"
      }
    },
    {
      "cell_type": "markdown",
      "source": [
        "###'22 – 29'"
      ],
      "metadata": {
        "id": "5dNHmlmYLDu0"
      }
    },
    {
      "cell_type": "markdown",
      "source": [
        "1. How many unique people participated in the experience in total? \n"
      ],
      "metadata": {
        "id": "3AQHWgedf6C1"
      }
    },
    {
      "cell_type": "code",
      "source": [
        "total_row = []"
      ],
      "metadata": {
        "id": "DSbrcEOCf6C2"
      },
      "execution_count": 420,
      "outputs": []
    },
    {
      "cell_type": "code",
      "source": [
        "temporary = df.query('brand ==  \"Tested brand\" and qd2_age == \"22 – 29\"') \\\n",
        ".pivot_table(index = 'category_test', values = 'respondent_id', aggfunc=pd.Series.nunique)"
      ],
      "metadata": {
        "id": "BwPyVK2Of6C2"
      },
      "execution_count": 421,
      "outputs": []
    },
    {
      "cell_type": "code",
      "source": [
        "total_row.append(temporary.loc[0, 'respondent_id'])\n",
        "total_row.append(temporary.loc[1, 'respondent_id'])\n",
        "total_row"
      ],
      "metadata": {
        "colab": {
          "base_uri": "https://localhost:8080/"
        },
        "outputId": "afdaaf35-6059-486b-f6ea-20edb11fdfa5",
        "id": "94Jd2Zvxf6C2"
      },
      "execution_count": 422,
      "outputs": [
        {
          "output_type": "execute_result",
          "data": {
            "text/plain": [
              "[48, 46]"
            ]
          },
          "metadata": {},
          "execution_count": 422
        }
      ]
    },
    {
      "cell_type": "markdown",
      "source": [
        "2. How many unique people purchased “Tested brand” products in the experience if “purchase” condition is “Action” == “bought”? "
      ],
      "metadata": {
        "id": "X1fFwTQif6C2"
      }
    },
    {
      "cell_type": "code",
      "source": [
        "temporary = df.query('action == \"bought\" and brand ==  \"Tested brand\" and qd2_age == \"22 – 29\"') \\\n",
        ".pivot_table(index = 'category_test', values = 'respondent_id', aggfunc=pd.Series.nunique)"
      ],
      "metadata": {
        "id": "YirKrBkGf6C2"
      },
      "execution_count": 423,
      "outputs": []
    },
    {
      "cell_type": "code",
      "source": [
        "total_row.append(temporary.loc[0, 'respondent_id'])\n",
        "total_row.append(temporary.loc[1, 'respondent_id'])\n",
        "total_row"
      ],
      "metadata": {
        "colab": {
          "base_uri": "https://localhost:8080/"
        },
        "outputId": "48dc0b3d-df48-471c-ef12-ad6b148fec71",
        "id": "iSaHHoGCf6C2"
      },
      "execution_count": 424,
      "outputs": [
        {
          "output_type": "execute_result",
          "data": {
            "text/plain": [
              "[48, 46, 44, 40]"
            ]
          },
          "metadata": {},
          "execution_count": 424
        }
      ]
    },
    {
      "cell_type": "markdown",
      "source": [
        "3. What is the sum of the values (in $) of all products purchased in the experience? "
      ],
      "metadata": {
        "id": "Y94t3UQhf6C3"
      }
    },
    {
      "cell_type": "code",
      "source": [
        "one_19_99 = 19.99\n",
        "one_23_99 = 23.99"
      ],
      "metadata": {
        "id": "tQ2n6DJdf6C3"
      },
      "execution_count": 425,
      "outputs": []
    },
    {
      "cell_type": "code",
      "source": [
        "sum_all_products = df.query('action == \"bought\"') \\\n",
        ".pivot_table(index = 'category_test', values = 'respondent_id', aggfunc='count')"
      ],
      "metadata": {
        "id": "HqidYkqaf6C3"
      },
      "execution_count": 426,
      "outputs": []
    },
    {
      "cell_type": "code",
      "source": [
        "total_row.append(sum_all_products.loc[0, 'respondent_id']*one_19_99)\n",
        "total_row.append(sum_all_products.loc[1, 'respondent_id']*one_23_99)\n",
        "total_row"
      ],
      "metadata": {
        "colab": {
          "base_uri": "https://localhost:8080/"
        },
        "outputId": "658e58a5-9175-4b0d-f8df-d2a7a0891aca",
        "id": "4AIm8VuJf6C3"
      },
      "execution_count": 427,
      "outputs": [
        {
          "output_type": "execute_result",
          "data": {
            "text/plain": [
              "[48, 46, 44, 40, 14732.63, 18304.37]"
            ]
          },
          "metadata": {},
          "execution_count": 427
        }
      ]
    },
    {
      "cell_type": "markdown",
      "source": [
        "\n",
        "4. What is the sum of the values (in $) of “Tested brand” products purchased in the experience? \n"
      ],
      "metadata": {
        "id": "9o849Xg4f6C3"
      }
    },
    {
      "cell_type": "code",
      "source": [
        "temporary = df.query('action == \"bought\" and brand ==  \"Tested brand\" and qd2_age == \"22 – 29\"') \\\n",
        ".pivot_table(index = 'category_test', values = 'respondent_id', aggfunc='count')"
      ],
      "metadata": {
        "id": "AdUPwJxif6C3"
      },
      "execution_count": 428,
      "outputs": []
    },
    {
      "cell_type": "code",
      "source": [
        "total_row.append(temporary.loc[0, 'respondent_id']*one_19_99)\n",
        "total_row.append(temporary.loc[1, 'respondent_id']*one_23_99)\n",
        "total_row"
      ],
      "metadata": {
        "colab": {
          "base_uri": "https://localhost:8080/"
        },
        "outputId": "9fb37863-8610-49fc-c161-30a43841362f",
        "id": "JaqAqcxJf6C3"
      },
      "execution_count": 429,
      "outputs": [
        {
          "output_type": "execute_result",
          "data": {
            "text/plain": [
              "[48, 46, 44, 40, 14732.63, 18304.37, 959.52, 1055.56]"
            ]
          },
          "metadata": {},
          "execution_count": 429
        }
      ]
    },
    {
      "cell_type": "markdown",
      "source": [
        "5. What is the market share of “Tested brand” in experience? "
      ],
      "metadata": {
        "id": "2lKqkcnff6C3"
      }
    },
    {
      "cell_type": "code",
      "source": [
        "total_row.append(temporary.loc[0, 'respondent_id']/sum_all_products.loc[0, 'respondent_id']*100)\n",
        "total_row.append(temporary.loc[1, 'respondent_id']/sum_all_products.loc[1, 'respondent_id']*100)\n",
        "total_row"
      ],
      "metadata": {
        "colab": {
          "base_uri": "https://localhost:8080/"
        },
        "outputId": "380c7dc4-c3ea-4109-fe17-ef18a654a3f4",
        "id": "LqucZLmkf6C3"
      },
      "execution_count": 430,
      "outputs": [
        {
          "output_type": "execute_result",
          "data": {
            "text/plain": [
              "[48,\n",
              " 46,\n",
              " 44,\n",
              " 40,\n",
              " 14732.63,\n",
              " 18304.37,\n",
              " 959.52,\n",
              " 1055.56,\n",
              " 6.512890094979647,\n",
              " 5.766710353866317]"
            ]
          },
          "metadata": {},
          "execution_count": 430
        }
      ]
    },
    {
      "cell_type": "markdown",
      "source": [
        "#### Output: "
      ],
      "metadata": {
        "id": "RqNGIo62f6C4"
      }
    },
    {
      "cell_type": "markdown",
      "source": [
        "Generate a table according to a given template for STEP 1 with the answers to 5 above questions for both experiments. \n",
        " "
      ],
      "metadata": {
        "id": "VAqPXdy1f6C4"
      }
    },
    {
      "cell_type": "code",
      "source": [
        "table_step_5 = pd.DataFrame(np.array([['Number of unique people participated (22-29)', total_row[0], total_row[1]], \n",
        "                               ['Unique people purchased “Tested brand”', total_row[2], total_row[3]],\n",
        "                             ['Total sum (in $) of all products', total_row[4], total_row[5]],\n",
        "                              ['Sum of the values (in $) of \"Tested brand\"', total_row[6].round(2), total_row[7].round(2)],\n",
        "                               ['Market share of “Tested brand”, %', total_row[8].round(2), total_row[9].round(2)]]),\n",
        "                   columns=['', 'Experiment 1 - Price 19.99', 'Experiment 2 - Price 23.99']).style.hide_index()"
      ],
      "metadata": {
        "id": "u5bc3waWf6C4"
      },
      "execution_count": 431,
      "outputs": []
    },
    {
      "cell_type": "code",
      "source": [
        "table_step_5"
      ],
      "metadata": {
        "colab": {
          "base_uri": "https://localhost:8080/",
          "height": 206
        },
        "outputId": "8ea3b5aa-d6a5-4f4a-e3f9-416941af59de",
        "id": "3F0mUT1Wf6C4"
      },
      "execution_count": 432,
      "outputs": [
        {
          "output_type": "execute_result",
          "data": {
            "text/plain": [
              "<pandas.io.formats.style.Styler at 0x7ff8991351d0>"
            ],
            "text/html": [
              "<style type=\"text/css\">\n",
              "</style>\n",
              "<table id=\"T_04077_\" class=\"dataframe\">\n",
              "  <thead>\n",
              "    <tr>\n",
              "      <th class=\"col_heading level0 col0\" ></th>\n",
              "      <th class=\"col_heading level0 col1\" >Experiment 1 - Price 19.99</th>\n",
              "      <th class=\"col_heading level0 col2\" >Experiment 2 - Price 23.99</th>\n",
              "    </tr>\n",
              "  </thead>\n",
              "  <tbody>\n",
              "    <tr>\n",
              "      <td id=\"T_04077_row0_col0\" class=\"data row0 col0\" >Number of unique people participated (22-29)</td>\n",
              "      <td id=\"T_04077_row0_col1\" class=\"data row0 col1\" >48</td>\n",
              "      <td id=\"T_04077_row0_col2\" class=\"data row0 col2\" >46</td>\n",
              "    </tr>\n",
              "    <tr>\n",
              "      <td id=\"T_04077_row1_col0\" class=\"data row1 col0\" >Unique people purchased “Tested brand”</td>\n",
              "      <td id=\"T_04077_row1_col1\" class=\"data row1 col1\" >44</td>\n",
              "      <td id=\"T_04077_row1_col2\" class=\"data row1 col2\" >40</td>\n",
              "    </tr>\n",
              "    <tr>\n",
              "      <td id=\"T_04077_row2_col0\" class=\"data row2 col0\" >Total sum (in $) of all products</td>\n",
              "      <td id=\"T_04077_row2_col1\" class=\"data row2 col1\" >14732.63</td>\n",
              "      <td id=\"T_04077_row2_col2\" class=\"data row2 col2\" >18304.37</td>\n",
              "    </tr>\n",
              "    <tr>\n",
              "      <td id=\"T_04077_row3_col0\" class=\"data row3 col0\" >Sum of the values (in $) of \"Tested brand\"</td>\n",
              "      <td id=\"T_04077_row3_col1\" class=\"data row3 col1\" >959.52</td>\n",
              "      <td id=\"T_04077_row3_col2\" class=\"data row3 col2\" >1055.56</td>\n",
              "    </tr>\n",
              "    <tr>\n",
              "      <td id=\"T_04077_row4_col0\" class=\"data row4 col0\" >Market share of “Tested brand”, %</td>\n",
              "      <td id=\"T_04077_row4_col1\" class=\"data row4 col1\" >6.51</td>\n",
              "      <td id=\"T_04077_row4_col2\" class=\"data row4 col2\" >5.77</td>\n",
              "    </tr>\n",
              "  </tbody>\n",
              "</table>\n"
            ]
          },
          "metadata": {},
          "execution_count": 432
        }
      ]
    },
    {
      "cell_type": "markdown",
      "source": [
        "###'30 – 39'"
      ],
      "metadata": {
        "id": "lZLfAF1TMC3n"
      }
    },
    {
      "cell_type": "markdown",
      "source": [
        "1. How many unique people participated in the experience in total? \n"
      ],
      "metadata": {
        "id": "7erx0JrKiTDm"
      }
    },
    {
      "cell_type": "code",
      "source": [
        "total_row = []"
      ],
      "metadata": {
        "id": "EFZeKiIjiTDm"
      },
      "execution_count": 433,
      "outputs": []
    },
    {
      "cell_type": "code",
      "source": [
        "temporary = df.query('brand ==  \"Tested brand\" and qd2_age == \"30 – 39\"') \\\n",
        ".pivot_table(index = 'category_test', values = 'respondent_id', aggfunc=pd.Series.nunique)"
      ],
      "metadata": {
        "id": "V4hSTpemiTDn"
      },
      "execution_count": 434,
      "outputs": []
    },
    {
      "cell_type": "code",
      "source": [
        "total_row.append(temporary.loc[0, 'respondent_id'])\n",
        "total_row.append(temporary.loc[1, 'respondent_id'])\n",
        "total_row"
      ],
      "metadata": {
        "colab": {
          "base_uri": "https://localhost:8080/"
        },
        "outputId": "ad5e240b-b322-4723-f5c2-ff6955beb8f9",
        "id": "yGYh9tKbiTDn"
      },
      "execution_count": 435,
      "outputs": [
        {
          "output_type": "execute_result",
          "data": {
            "text/plain": [
              "[92, 94]"
            ]
          },
          "metadata": {},
          "execution_count": 435
        }
      ]
    },
    {
      "cell_type": "markdown",
      "source": [
        "2. How many unique people purchased “Tested brand” products in the experience if “purchase” condition is “Action” == “bought”? "
      ],
      "metadata": {
        "id": "ah7UU14miTDn"
      }
    },
    {
      "cell_type": "code",
      "source": [
        "temporary = df.query('action == \"bought\" and brand ==  \"Tested brand\" and qd2_age == \"30 – 39\"') \\\n",
        ".pivot_table(index = 'category_test', values = 'respondent_id', aggfunc=pd.Series.nunique)"
      ],
      "metadata": {
        "id": "LutwEa4viTDn"
      },
      "execution_count": 436,
      "outputs": []
    },
    {
      "cell_type": "code",
      "source": [
        "total_row.append(temporary.loc[0, 'respondent_id'])\n",
        "total_row.append(temporary.loc[1, 'respondent_id'])\n",
        "total_row"
      ],
      "metadata": {
        "colab": {
          "base_uri": "https://localhost:8080/"
        },
        "outputId": "331aad5d-90af-4a3f-d884-cbc23687b12d",
        "id": "grzrAHfviTDn"
      },
      "execution_count": 437,
      "outputs": [
        {
          "output_type": "execute_result",
          "data": {
            "text/plain": [
              "[92, 94, 82, 86]"
            ]
          },
          "metadata": {},
          "execution_count": 437
        }
      ]
    },
    {
      "cell_type": "markdown",
      "source": [
        "3. What is the sum of the values (in $) of all products purchased in the experience? "
      ],
      "metadata": {
        "id": "dENDRaFaiTDn"
      }
    },
    {
      "cell_type": "code",
      "source": [
        "one_19_99 = 19.99\n",
        "one_23_99 = 23.99"
      ],
      "metadata": {
        "id": "ONtKFptyiTDn"
      },
      "execution_count": 438,
      "outputs": []
    },
    {
      "cell_type": "code",
      "source": [
        "sum_all_products = df.query('action == \"bought\"') \\\n",
        ".pivot_table(index = 'category_test', values = 'respondent_id', aggfunc='count')"
      ],
      "metadata": {
        "id": "JJ8RmXM6iTDn"
      },
      "execution_count": 439,
      "outputs": []
    },
    {
      "cell_type": "code",
      "source": [
        "total_row.append(sum_all_products.loc[0, 'respondent_id']*one_19_99)\n",
        "total_row.append(sum_all_products.loc[1, 'respondent_id']*one_23_99)\n",
        "total_row"
      ],
      "metadata": {
        "colab": {
          "base_uri": "https://localhost:8080/"
        },
        "outputId": "f6e0c372-1d40-4fb1-9d52-02fd53af25b6",
        "id": "Sw8i_sX7iTDo"
      },
      "execution_count": 440,
      "outputs": [
        {
          "output_type": "execute_result",
          "data": {
            "text/plain": [
              "[92, 94, 82, 86, 14732.63, 18304.37]"
            ]
          },
          "metadata": {},
          "execution_count": 440
        }
      ]
    },
    {
      "cell_type": "markdown",
      "source": [
        "\n",
        "4. What is the sum of the values (in $) of “Tested brand” products purchased in the experience? \n"
      ],
      "metadata": {
        "id": "ChdMbZXtiTDo"
      }
    },
    {
      "cell_type": "code",
      "source": [
        "temporary = df.query('action == \"bought\" and brand ==  \"Tested brand\" and qd2_age == \"30 – 39\"') \\\n",
        ".pivot_table(index = 'category_test', values = 'respondent_id', aggfunc='count')"
      ],
      "metadata": {
        "id": "VxBQzdTJiTDo"
      },
      "execution_count": 441,
      "outputs": []
    },
    {
      "cell_type": "code",
      "source": [
        "total_row.append(temporary.loc[0, 'respondent_id']*one_19_99)\n",
        "total_row.append(temporary.loc[1, 'respondent_id']*one_23_99)\n",
        "total_row"
      ],
      "metadata": {
        "colab": {
          "base_uri": "https://localhost:8080/"
        },
        "outputId": "8c02f603-8fe5-4eaf-8b5a-49fc62ed83f6",
        "id": "ebgTzP3riTDo"
      },
      "execution_count": 442,
      "outputs": [
        {
          "output_type": "execute_result",
          "data": {
            "text/plain": [
              "[92, 94, 82, 86, 14732.63, 18304.37, 1819.09, 2518.95]"
            ]
          },
          "metadata": {},
          "execution_count": 442
        }
      ]
    },
    {
      "cell_type": "markdown",
      "source": [
        "5. What is the market share of “Tested brand” in experience? "
      ],
      "metadata": {
        "id": "DiEkAGgUiTDo"
      }
    },
    {
      "cell_type": "code",
      "source": [
        "total_row.append(temporary.loc[0, 'respondent_id']/sum_all_products.loc[0, 'respondent_id']*100)\n",
        "total_row.append(temporary.loc[1, 'respondent_id']/sum_all_products.loc[1, 'respondent_id']*100)\n",
        "total_row"
      ],
      "metadata": {
        "colab": {
          "base_uri": "https://localhost:8080/"
        },
        "outputId": "39ecaedf-cfeb-4824-8dea-ea09c741f683",
        "id": "Z_R4qA1eiTDo"
      },
      "execution_count": 443,
      "outputs": [
        {
          "output_type": "execute_result",
          "data": {
            "text/plain": [
              "[92,\n",
              " 94,\n",
              " 82,\n",
              " 86,\n",
              " 14732.63,\n",
              " 18304.37,\n",
              " 1819.09,\n",
              " 2518.95,\n",
              " 12.347354138398913,\n",
              " 13.761467889908257]"
            ]
          },
          "metadata": {},
          "execution_count": 443
        }
      ]
    },
    {
      "cell_type": "markdown",
      "source": [
        "#### Output: "
      ],
      "metadata": {
        "id": "HDLToe7ZiTDp"
      }
    },
    {
      "cell_type": "markdown",
      "source": [
        "Generate a table according to a given template for STEP 1 with the answers to 5 above questions for both experiments. \n",
        " "
      ],
      "metadata": {
        "id": "LpkrgkBEiTDp"
      }
    },
    {
      "cell_type": "code",
      "source": [
        "table_step_6 = pd.DataFrame(np.array([['Number of unique people participated (30-39)', total_row[0], total_row[1]], \n",
        "                               ['Unique people purchased “Tested brand”', total_row[2], total_row[3]],\n",
        "                             ['Total sum (in $) of all products', total_row[4], total_row[5]],\n",
        "                              ['Sum of the values (in $) of \"Tested brand\"', total_row[6].round(2), total_row[7].round(2)],\n",
        "                               ['Market share of “Tested brand”, %', total_row[8].round(2), total_row[9].round(2)]]),\n",
        "                   columns=['', 'Experiment 1 - Price 19.99', 'Experiment 2 - Price 23.99']).style.hide_index()"
      ],
      "metadata": {
        "id": "1zH778vHiTDp"
      },
      "execution_count": 444,
      "outputs": []
    },
    {
      "cell_type": "code",
      "source": [
        "table_step_6"
      ],
      "metadata": {
        "colab": {
          "base_uri": "https://localhost:8080/",
          "height": 206
        },
        "outputId": "6c47910b-bb65-449e-a83a-c78bd01060db",
        "id": "ZXIyT8_JiTDp"
      },
      "execution_count": 445,
      "outputs": [
        {
          "output_type": "execute_result",
          "data": {
            "text/plain": [
              "<pandas.io.formats.style.Styler at 0x7ff8990e0110>"
            ],
            "text/html": [
              "<style type=\"text/css\">\n",
              "</style>\n",
              "<table id=\"T_07bae_\" class=\"dataframe\">\n",
              "  <thead>\n",
              "    <tr>\n",
              "      <th class=\"col_heading level0 col0\" ></th>\n",
              "      <th class=\"col_heading level0 col1\" >Experiment 1 - Price 19.99</th>\n",
              "      <th class=\"col_heading level0 col2\" >Experiment 2 - Price 23.99</th>\n",
              "    </tr>\n",
              "  </thead>\n",
              "  <tbody>\n",
              "    <tr>\n",
              "      <td id=\"T_07bae_row0_col0\" class=\"data row0 col0\" >Number of unique people participated (30-39)</td>\n",
              "      <td id=\"T_07bae_row0_col1\" class=\"data row0 col1\" >92</td>\n",
              "      <td id=\"T_07bae_row0_col2\" class=\"data row0 col2\" >94</td>\n",
              "    </tr>\n",
              "    <tr>\n",
              "      <td id=\"T_07bae_row1_col0\" class=\"data row1 col0\" >Unique people purchased “Tested brand”</td>\n",
              "      <td id=\"T_07bae_row1_col1\" class=\"data row1 col1\" >82</td>\n",
              "      <td id=\"T_07bae_row1_col2\" class=\"data row1 col2\" >86</td>\n",
              "    </tr>\n",
              "    <tr>\n",
              "      <td id=\"T_07bae_row2_col0\" class=\"data row2 col0\" >Total sum (in $) of all products</td>\n",
              "      <td id=\"T_07bae_row2_col1\" class=\"data row2 col1\" >14732.63</td>\n",
              "      <td id=\"T_07bae_row2_col2\" class=\"data row2 col2\" >18304.37</td>\n",
              "    </tr>\n",
              "    <tr>\n",
              "      <td id=\"T_07bae_row3_col0\" class=\"data row3 col0\" >Sum of the values (in $) of \"Tested brand\"</td>\n",
              "      <td id=\"T_07bae_row3_col1\" class=\"data row3 col1\" >1819.09</td>\n",
              "      <td id=\"T_07bae_row3_col2\" class=\"data row3 col2\" >2518.95</td>\n",
              "    </tr>\n",
              "    <tr>\n",
              "      <td id=\"T_07bae_row4_col0\" class=\"data row4 col0\" >Market share of “Tested brand”, %</td>\n",
              "      <td id=\"T_07bae_row4_col1\" class=\"data row4 col1\" >12.35</td>\n",
              "      <td id=\"T_07bae_row4_col2\" class=\"data row4 col2\" >13.76</td>\n",
              "    </tr>\n",
              "  </tbody>\n",
              "</table>\n"
            ]
          },
          "metadata": {},
          "execution_count": 445
        }
      ]
    },
    {
      "cell_type": "markdown",
      "source": [
        "###'40 – 49'"
      ],
      "metadata": {
        "id": "_dyu2biXMDD-"
      }
    },
    {
      "cell_type": "markdown",
      "source": [
        "1. How many unique people participated in the experience in total? \n"
      ],
      "metadata": {
        "id": "tzZmSmM2izWH"
      }
    },
    {
      "cell_type": "code",
      "source": [
        "total_row = []"
      ],
      "metadata": {
        "id": "PSXPd03jizWI"
      },
      "execution_count": 446,
      "outputs": []
    },
    {
      "cell_type": "code",
      "source": [
        "temporary = df.query('brand ==  \"Tested brand\" and qd2_age == \"40 – 49\"') \\\n",
        ".pivot_table(index = 'category_test', values = 'respondent_id', aggfunc=pd.Series.nunique)"
      ],
      "metadata": {
        "id": "_QQGWcZLizWI"
      },
      "execution_count": 447,
      "outputs": []
    },
    {
      "cell_type": "code",
      "source": [
        "total_row.append(temporary.loc[0, 'respondent_id'])\n",
        "total_row.append(temporary.loc[1, 'respondent_id'])\n",
        "total_row"
      ],
      "metadata": {
        "colab": {
          "base_uri": "https://localhost:8080/"
        },
        "outputId": "b3d29237-2ae8-450e-e820-f482de4cc3c9",
        "id": "GnebzDITizWI"
      },
      "execution_count": 448,
      "outputs": [
        {
          "output_type": "execute_result",
          "data": {
            "text/plain": [
              "[59, 56]"
            ]
          },
          "metadata": {},
          "execution_count": 448
        }
      ]
    },
    {
      "cell_type": "markdown",
      "source": [
        "2. How many unique people purchased “Tested brand” products in the experience if “purchase” condition is “Action” == “bought”? "
      ],
      "metadata": {
        "id": "KH2h8PODizWI"
      }
    },
    {
      "cell_type": "code",
      "source": [
        "temporary = df.query('action == \"bought\" and brand ==  \"Tested brand\" and qd2_age == \"40 – 49\"') \\\n",
        ".pivot_table(index = 'category_test', values = 'respondent_id', aggfunc=pd.Series.nunique)"
      ],
      "metadata": {
        "id": "hQmujfQZizWI"
      },
      "execution_count": 449,
      "outputs": []
    },
    {
      "cell_type": "code",
      "source": [
        "total_row.append(temporary.loc[0, 'respondent_id'])\n",
        "total_row.append(temporary.loc[1, 'respondent_id'])\n",
        "total_row"
      ],
      "metadata": {
        "colab": {
          "base_uri": "https://localhost:8080/"
        },
        "outputId": "0666d3ad-b3cc-414e-c960-259303640f63",
        "id": "EF0E2m_8izWI"
      },
      "execution_count": 450,
      "outputs": [
        {
          "output_type": "execute_result",
          "data": {
            "text/plain": [
              "[59, 56, 53, 51]"
            ]
          },
          "metadata": {},
          "execution_count": 450
        }
      ]
    },
    {
      "cell_type": "markdown",
      "source": [
        "3. What is the sum of the values (in $) of all products purchased in the experience? "
      ],
      "metadata": {
        "id": "bvvaCtraizWJ"
      }
    },
    {
      "cell_type": "code",
      "source": [
        "one_19_99 = 19.99\n",
        "one_23_99 = 23.99"
      ],
      "metadata": {
        "id": "z3o40ZooizWJ"
      },
      "execution_count": 451,
      "outputs": []
    },
    {
      "cell_type": "code",
      "source": [
        "sum_all_products = df.query('action == \"bought\"') \\\n",
        ".pivot_table(index = 'category_test', values = 'respondent_id', aggfunc='count')"
      ],
      "metadata": {
        "id": "K4WS1XhaizWJ"
      },
      "execution_count": 452,
      "outputs": []
    },
    {
      "cell_type": "code",
      "source": [
        "total_row.append(sum_all_products.loc[0, 'respondent_id']*one_19_99)\n",
        "total_row.append(sum_all_products.loc[1, 'respondent_id']*one_23_99)\n",
        "total_row"
      ],
      "metadata": {
        "colab": {
          "base_uri": "https://localhost:8080/"
        },
        "outputId": "63896767-d292-4fee-ccf0-a4c807ce7c5a",
        "id": "cGdXjqvgizWJ"
      },
      "execution_count": 453,
      "outputs": [
        {
          "output_type": "execute_result",
          "data": {
            "text/plain": [
              "[59, 56, 53, 51, 14732.63, 18304.37]"
            ]
          },
          "metadata": {},
          "execution_count": 453
        }
      ]
    },
    {
      "cell_type": "markdown",
      "source": [
        "\n",
        "4. What is the sum of the values (in $) of “Tested brand” products purchased in the experience? \n"
      ],
      "metadata": {
        "id": "FXfxcPXrizWJ"
      }
    },
    {
      "cell_type": "code",
      "source": [
        "temporary = df.query('action == \"bought\" and brand ==  \"Tested brand\" and qd2_age == \"40 – 49\"') \\\n",
        ".pivot_table(index = 'category_test', values = 'respondent_id', aggfunc='count')"
      ],
      "metadata": {
        "id": "0m40Y_5hizWJ"
      },
      "execution_count": 454,
      "outputs": []
    },
    {
      "cell_type": "code",
      "source": [
        "total_row.append(temporary.loc[0, 'respondent_id']*one_19_99)\n",
        "total_row.append(temporary.loc[1, 'respondent_id']*one_23_99)\n",
        "total_row"
      ],
      "metadata": {
        "colab": {
          "base_uri": "https://localhost:8080/"
        },
        "outputId": "e6e81ad8-bad9-4f81-e3e1-02ffef5f2b4c",
        "id": "DAQRXwVxizWJ"
      },
      "execution_count": 455,
      "outputs": [
        {
          "output_type": "execute_result",
          "data": {
            "text/plain": [
              "[59, 56, 53, 51, 14732.63, 18304.37, 1139.4299999999998, 1319.4499999999998]"
            ]
          },
          "metadata": {},
          "execution_count": 455
        }
      ]
    },
    {
      "cell_type": "markdown",
      "source": [
        "5. What is the market share of “Tested brand” in experience? "
      ],
      "metadata": {
        "id": "p0iP02VCizWJ"
      }
    },
    {
      "cell_type": "code",
      "source": [
        "total_row.append(temporary.loc[0, 'respondent_id']/sum_all_products.loc[0, 'respondent_id']*100)\n",
        "total_row.append(temporary.loc[1, 'respondent_id']/sum_all_products.loc[1, 'respondent_id']*100)\n",
        "total_row"
      ],
      "metadata": {
        "colab": {
          "base_uri": "https://localhost:8080/"
        },
        "outputId": "ad3352b7-870f-41ba-88de-bd5ee8ab3ce5",
        "id": "2l8n3nQPizWJ"
      },
      "execution_count": 456,
      "outputs": [
        {
          "output_type": "execute_result",
          "data": {
            "text/plain": [
              "[59,\n",
              " 56,\n",
              " 53,\n",
              " 51,\n",
              " 14732.63,\n",
              " 18304.37,\n",
              " 1139.4299999999998,\n",
              " 1319.4499999999998,\n",
              " 7.734056987788331,\n",
              " 7.208387942332896]"
            ]
          },
          "metadata": {},
          "execution_count": 456
        }
      ]
    },
    {
      "cell_type": "markdown",
      "source": [
        "#### Output: "
      ],
      "metadata": {
        "id": "X-YW_zBeizWK"
      }
    },
    {
      "cell_type": "markdown",
      "source": [
        "Generate a table according to a given template for STEP 1 with the answers to 5 above questions for both experiments. \n",
        " "
      ],
      "metadata": {
        "id": "MGml2fKGizWK"
      }
    },
    {
      "cell_type": "code",
      "source": [
        "table_step_7 = pd.DataFrame(np.array([['Number of unique people participated (40 – 49)', total_row[0], total_row[1]], \n",
        "                               ['Unique people purchased “Tested brand”', total_row[2], total_row[3]],\n",
        "                             ['Total sum (in $) of all products', total_row[4], total_row[5]],\n",
        "                              ['Sum of the values (in $) of \"Tested brand\"', total_row[6].round(2), total_row[7].round(2)],\n",
        "                               ['Market share of “Tested brand”, %', total_row[8].round(2), total_row[9].round(2)]]),\n",
        "                   columns=['', 'Experiment 1 - Price 19.99', 'Experiment 2 - Price 23.99']).style.hide_index()"
      ],
      "metadata": {
        "id": "Rbbo-L-uizWK"
      },
      "execution_count": 457,
      "outputs": []
    },
    {
      "cell_type": "code",
      "source": [
        "table_step_7"
      ],
      "metadata": {
        "colab": {
          "base_uri": "https://localhost:8080/",
          "height": 206
        },
        "outputId": "79bb69a4-6b39-4eba-a74d-ff89c2d5cf11",
        "id": "rWbhF7duizWK"
      },
      "execution_count": 458,
      "outputs": [
        {
          "output_type": "execute_result",
          "data": {
            "text/plain": [
              "<pandas.io.formats.style.Styler at 0x7ff899106850>"
            ],
            "text/html": [
              "<style type=\"text/css\">\n",
              "</style>\n",
              "<table id=\"T_aefcb_\" class=\"dataframe\">\n",
              "  <thead>\n",
              "    <tr>\n",
              "      <th class=\"col_heading level0 col0\" ></th>\n",
              "      <th class=\"col_heading level0 col1\" >Experiment 1 - Price 19.99</th>\n",
              "      <th class=\"col_heading level0 col2\" >Experiment 2 - Price 23.99</th>\n",
              "    </tr>\n",
              "  </thead>\n",
              "  <tbody>\n",
              "    <tr>\n",
              "      <td id=\"T_aefcb_row0_col0\" class=\"data row0 col0\" >Number of unique people participated (40 – 49)</td>\n",
              "      <td id=\"T_aefcb_row0_col1\" class=\"data row0 col1\" >59</td>\n",
              "      <td id=\"T_aefcb_row0_col2\" class=\"data row0 col2\" >56</td>\n",
              "    </tr>\n",
              "    <tr>\n",
              "      <td id=\"T_aefcb_row1_col0\" class=\"data row1 col0\" >Unique people purchased “Tested brand”</td>\n",
              "      <td id=\"T_aefcb_row1_col1\" class=\"data row1 col1\" >53</td>\n",
              "      <td id=\"T_aefcb_row1_col2\" class=\"data row1 col2\" >51</td>\n",
              "    </tr>\n",
              "    <tr>\n",
              "      <td id=\"T_aefcb_row2_col0\" class=\"data row2 col0\" >Total sum (in $) of all products</td>\n",
              "      <td id=\"T_aefcb_row2_col1\" class=\"data row2 col1\" >14732.63</td>\n",
              "      <td id=\"T_aefcb_row2_col2\" class=\"data row2 col2\" >18304.37</td>\n",
              "    </tr>\n",
              "    <tr>\n",
              "      <td id=\"T_aefcb_row3_col0\" class=\"data row3 col0\" >Sum of the values (in $) of \"Tested brand\"</td>\n",
              "      <td id=\"T_aefcb_row3_col1\" class=\"data row3 col1\" >1139.43</td>\n",
              "      <td id=\"T_aefcb_row3_col2\" class=\"data row3 col2\" >1319.45</td>\n",
              "    </tr>\n",
              "    <tr>\n",
              "      <td id=\"T_aefcb_row4_col0\" class=\"data row4 col0\" >Market share of “Tested brand”, %</td>\n",
              "      <td id=\"T_aefcb_row4_col1\" class=\"data row4 col1\" >7.73</td>\n",
              "      <td id=\"T_aefcb_row4_col2\" class=\"data row4 col2\" >7.21</td>\n",
              "    </tr>\n",
              "  </tbody>\n",
              "</table>\n"
            ]
          },
          "metadata": {},
          "execution_count": 458
        }
      ]
    },
    {
      "cell_type": "markdown",
      "source": [
        "###'50 – 55'"
      ],
      "metadata": {
        "id": "Feyk0PCIMDO9"
      }
    },
    {
      "cell_type": "markdown",
      "source": [
        "1. How many unique people participated in the experience in total? \n"
      ],
      "metadata": {
        "id": "ER8fI5pvjKm1"
      }
    },
    {
      "cell_type": "code",
      "source": [
        "total_row = []"
      ],
      "metadata": {
        "id": "Fu3gHuBWjKm2"
      },
      "execution_count": 459,
      "outputs": []
    },
    {
      "cell_type": "code",
      "source": [
        "temporary = df.query('brand ==  \"Tested brand\" and qd2_age == \"50 – 55\"') \\\n",
        ".pivot_table(index = 'category_test', values = 'respondent_id', aggfunc=pd.Series.nunique)"
      ],
      "metadata": {
        "id": "5agAHcyejKm2"
      },
      "execution_count": 460,
      "outputs": []
    },
    {
      "cell_type": "code",
      "source": [
        "total_row.append(temporary.loc[0, 'respondent_id'])\n",
        "total_row.append(temporary.loc[1, 'respondent_id'])\n",
        "total_row"
      ],
      "metadata": {
        "colab": {
          "base_uri": "https://localhost:8080/"
        },
        "outputId": "81335b1f-2773-429b-a32d-520c3ca53786",
        "id": "Pu_k8jaKjKm2"
      },
      "execution_count": 461,
      "outputs": [
        {
          "output_type": "execute_result",
          "data": {
            "text/plain": [
              "[26, 33]"
            ]
          },
          "metadata": {},
          "execution_count": 461
        }
      ]
    },
    {
      "cell_type": "markdown",
      "source": [
        "2. How many unique people purchased “Tested brand” products in the experience if “purchase” condition is “Action” == “bought”? "
      ],
      "metadata": {
        "id": "ulYjGfUcjKm2"
      }
    },
    {
      "cell_type": "code",
      "source": [
        "temporary = df.query('action == \"bought\" and brand ==  \"Tested brand\" and qd2_age == \"50 – 55\"') \\\n",
        ".pivot_table(index = 'category_test', values = 'respondent_id', aggfunc=pd.Series.nunique)"
      ],
      "metadata": {
        "id": "4AgYtkBijKm2"
      },
      "execution_count": 462,
      "outputs": []
    },
    {
      "cell_type": "code",
      "source": [
        "total_row.append(temporary.loc[0, 'respondent_id'])\n",
        "total_row.append(temporary.loc[1, 'respondent_id'])\n",
        "total_row"
      ],
      "metadata": {
        "colab": {
          "base_uri": "https://localhost:8080/"
        },
        "outputId": "38633258-6a5b-48cd-8403-f1323bf78a56",
        "id": "85gujEmKjKm2"
      },
      "execution_count": 463,
      "outputs": [
        {
          "output_type": "execute_result",
          "data": {
            "text/plain": [
              "[26, 33, 24, 31]"
            ]
          },
          "metadata": {},
          "execution_count": 463
        }
      ]
    },
    {
      "cell_type": "markdown",
      "source": [
        "3. What is the sum of the values (in $) of all products purchased in the experience? "
      ],
      "metadata": {
        "id": "BvFG69qajKm3"
      }
    },
    {
      "cell_type": "code",
      "source": [
        "one_19_99 = 19.99\n",
        "one_23_99 = 23.99"
      ],
      "metadata": {
        "id": "i4skKZnijKm3"
      },
      "execution_count": 464,
      "outputs": []
    },
    {
      "cell_type": "code",
      "source": [
        "sum_all_products = df.query('action == \"bought\"') \\\n",
        ".pivot_table(index = 'category_test', values = 'respondent_id', aggfunc='count')"
      ],
      "metadata": {
        "id": "7hKOSSJqjKm3"
      },
      "execution_count": 465,
      "outputs": []
    },
    {
      "cell_type": "code",
      "source": [
        "total_row.append(sum_all_products.loc[0, 'respondent_id']*one_19_99)\n",
        "total_row.append(sum_all_products.loc[1, 'respondent_id']*one_23_99)\n",
        "total_row"
      ],
      "metadata": {
        "colab": {
          "base_uri": "https://localhost:8080/"
        },
        "outputId": "d46d3048-db5c-4588-ea11-b5d2722a6288",
        "id": "51raz9jJjKm3"
      },
      "execution_count": 466,
      "outputs": [
        {
          "output_type": "execute_result",
          "data": {
            "text/plain": [
              "[26, 33, 24, 31, 14732.63, 18304.37]"
            ]
          },
          "metadata": {},
          "execution_count": 466
        }
      ]
    },
    {
      "cell_type": "markdown",
      "source": [
        "\n",
        "4. What is the sum of the values (in $) of “Tested brand” products purchased in the experience? \n"
      ],
      "metadata": {
        "id": "y8_FIa88jKm3"
      }
    },
    {
      "cell_type": "code",
      "source": [
        "temporary = df.query('action == \"bought\" and brand ==  \"Tested brand\" and qd2_age == \"50 – 55\"') \\\n",
        ".pivot_table(index = 'category_test', values = 'respondent_id', aggfunc='count')"
      ],
      "metadata": {
        "id": "Du2RSBMjjKm3"
      },
      "execution_count": 467,
      "outputs": []
    },
    {
      "cell_type": "code",
      "source": [
        "total_row.append(temporary.loc[0, 'respondent_id']*one_19_99)\n",
        "total_row.append(temporary.loc[1, 'respondent_id']*one_23_99)\n",
        "total_row"
      ],
      "metadata": {
        "colab": {
          "base_uri": "https://localhost:8080/"
        },
        "outputId": "b7ba7e7d-d93e-4d23-a0a3-be9b29f83aee",
        "id": "Y5UGZVPrjKm3"
      },
      "execution_count": 468,
      "outputs": [
        {
          "output_type": "execute_result",
          "data": {
            "text/plain": [
              "[26, 33, 24, 31, 14732.63, 18304.37, 539.7299999999999, 791.67]"
            ]
          },
          "metadata": {},
          "execution_count": 468
        }
      ]
    },
    {
      "cell_type": "markdown",
      "source": [
        "5. What is the market share of “Tested brand” in experience? "
      ],
      "metadata": {
        "id": "c9Er7-rLjKm3"
      }
    },
    {
      "cell_type": "code",
      "source": [
        "total_row.append(temporary.loc[0, 'respondent_id']/sum_all_products.loc[0, 'respondent_id']*100)\n",
        "total_row.append(temporary.loc[1, 'respondent_id']/sum_all_products.loc[1, 'respondent_id']*100)\n",
        "total_row"
      ],
      "metadata": {
        "colab": {
          "base_uri": "https://localhost:8080/"
        },
        "outputId": "4e86397a-8b1f-4b34-8fd7-2f9a4fa15951",
        "id": "tTQo9rSljKm4"
      },
      "execution_count": 469,
      "outputs": [
        {
          "output_type": "execute_result",
          "data": {
            "text/plain": [
              "[26,\n",
              " 33,\n",
              " 24,\n",
              " 31,\n",
              " 14732.63,\n",
              " 18304.37,\n",
              " 539.7299999999999,\n",
              " 791.67,\n",
              " 3.6635006784260513,\n",
              " 4.3250327653997385]"
            ]
          },
          "metadata": {},
          "execution_count": 469
        }
      ]
    },
    {
      "cell_type": "markdown",
      "source": [
        "#### Output: "
      ],
      "metadata": {
        "id": "34gX_dJDjKm4"
      }
    },
    {
      "cell_type": "markdown",
      "source": [
        "Generate a table according to a given template for STEP 1 with the answers to 5 above questions for both experiments. \n",
        " "
      ],
      "metadata": {
        "id": "rHupPrJEjKm4"
      }
    },
    {
      "cell_type": "code",
      "source": [
        "table_step_8 = pd.DataFrame(np.array([['Number of unique people participated (50 – 55)', total_row[0], total_row[1]], \n",
        "                               ['Unique people purchased “Tested brand”', total_row[2], total_row[3]],\n",
        "                             ['Total sum (in $) of all products', total_row[4], total_row[5]],\n",
        "                              ['Sum of the values (in $) of \"Tested brand\"', total_row[6].round(2), total_row[7].round(2)],\n",
        "                               ['Market share of “Tested brand”, %', total_row[8].round(2), total_row[9].round(2)]]),\n",
        "                   columns=['', 'Experiment 1 - Price 19.99', 'Experiment 2 - Price 23.99']).style.hide_index()"
      ],
      "metadata": {
        "id": "faXOZs3VjKm4"
      },
      "execution_count": 470,
      "outputs": []
    },
    {
      "cell_type": "code",
      "source": [
        "table_step_8"
      ],
      "metadata": {
        "colab": {
          "base_uri": "https://localhost:8080/",
          "height": 206
        },
        "outputId": "736ee21e-dccf-4f2c-b6d1-725f8ff54974",
        "id": "0KVxgJhEjKm4"
      },
      "execution_count": 471,
      "outputs": [
        {
          "output_type": "execute_result",
          "data": {
            "text/plain": [
              "<pandas.io.formats.style.Styler at 0x7ff8990a9e90>"
            ],
            "text/html": [
              "<style type=\"text/css\">\n",
              "</style>\n",
              "<table id=\"T_efda8_\" class=\"dataframe\">\n",
              "  <thead>\n",
              "    <tr>\n",
              "      <th class=\"col_heading level0 col0\" ></th>\n",
              "      <th class=\"col_heading level0 col1\" >Experiment 1 - Price 19.99</th>\n",
              "      <th class=\"col_heading level0 col2\" >Experiment 2 - Price 23.99</th>\n",
              "    </tr>\n",
              "  </thead>\n",
              "  <tbody>\n",
              "    <tr>\n",
              "      <td id=\"T_efda8_row0_col0\" class=\"data row0 col0\" >Number of unique people participated (50 – 55)</td>\n",
              "      <td id=\"T_efda8_row0_col1\" class=\"data row0 col1\" >26</td>\n",
              "      <td id=\"T_efda8_row0_col2\" class=\"data row0 col2\" >33</td>\n",
              "    </tr>\n",
              "    <tr>\n",
              "      <td id=\"T_efda8_row1_col0\" class=\"data row1 col0\" >Unique people purchased “Tested brand”</td>\n",
              "      <td id=\"T_efda8_row1_col1\" class=\"data row1 col1\" >24</td>\n",
              "      <td id=\"T_efda8_row1_col2\" class=\"data row1 col2\" >31</td>\n",
              "    </tr>\n",
              "    <tr>\n",
              "      <td id=\"T_efda8_row2_col0\" class=\"data row2 col0\" >Total sum (in $) of all products</td>\n",
              "      <td id=\"T_efda8_row2_col1\" class=\"data row2 col1\" >14732.63</td>\n",
              "      <td id=\"T_efda8_row2_col2\" class=\"data row2 col2\" >18304.37</td>\n",
              "    </tr>\n",
              "    <tr>\n",
              "      <td id=\"T_efda8_row3_col0\" class=\"data row3 col0\" >Sum of the values (in $) of \"Tested brand\"</td>\n",
              "      <td id=\"T_efda8_row3_col1\" class=\"data row3 col1\" >539.73</td>\n",
              "      <td id=\"T_efda8_row3_col2\" class=\"data row3 col2\" >791.67</td>\n",
              "    </tr>\n",
              "    <tr>\n",
              "      <td id=\"T_efda8_row4_col0\" class=\"data row4 col0\" >Market share of “Tested brand”, %</td>\n",
              "      <td id=\"T_efda8_row4_col1\" class=\"data row4 col1\" >3.66</td>\n",
              "      <td id=\"T_efda8_row4_col2\" class=\"data row4 col2\" >4.33</td>\n",
              "    </tr>\n",
              "  </tbody>\n",
              "</table>\n"
            ]
          },
          "metadata": {},
          "execution_count": 471
        }
      ]
    },
    {
      "cell_type": "markdown",
      "source": [
        "#### Output: "
      ],
      "metadata": {
        "id": "1ihS-HJfMDIE"
      }
    },
    {
      "cell_type": "markdown",
      "source": [
        "Generate several tables according to a given example for STEP 3 with the answers to 5 questions from STEP 1 for each of the age groups (1 table per 1 age group). "
      ],
      "metadata": {
        "id": "959Rg2vXMGe0"
      }
    },
    {
      "cell_type": "markdown",
      "source": [
        "# STEP 4"
      ],
      "metadata": {
        "id": "zf5usWUYMKOu"
      }
    },
    {
      "cell_type": "markdown",
      "source": [
        "#Seconds"
      ],
      "metadata": {
        "id": "AQTYFS3nVeT3"
      }
    },
    {
      "cell_type": "markdown",
      "source": [
        "1. What is the average time spent (in seconds) on the product pages of the “Tested brand” in each experiment? Use the log file and focus on the action \"pageview\" as it dictates the moment a visitor changes pages (please consider exactly the “Tested brand” pageview actions). "
      ],
      "metadata": {
        "id": "L4jcp3DgMNpV"
      }
    },
    {
      "cell_type": "code",
      "source": [
        "time = df.query('brand ==  \"Tested brand\" and action == \"pageview\"').sort_values(by=['datetime'])\n",
        "time['sort_time'] = df['datetime'].diff().shift(-1)\n",
        "\n",
        "time['new'] = time[:679]['sort_time'].values.view('<i8')/10**9\n",
        "time = time[time['new'] != 0.00]"
      ],
      "metadata": {
        "id": "UdCCM6j0rH-8"
      },
      "execution_count": 472,
      "outputs": []
    },
    {
      "cell_type": "markdown",
      "source": [
        "#### Output: "
      ],
      "metadata": {
        "id": "9VGfMpM_MY2Q"
      }
    },
    {
      "cell_type": "markdown",
      "source": [
        "Generate a table according to a given template for STEP 4. "
      ],
      "metadata": {
        "id": "UYa5-yMdJiGq"
      }
    },
    {
      "cell_type": "code",
      "source": [
        "temporary = time.pivot_table(index = 'category_test', values = 'new', aggfunc='mean')\n",
        "\n",
        "total_row = []\n",
        "\n",
        "total_row.append(temporary.loc[0, 'new'])\n",
        "total_row.append(temporary.loc[1, 'new'])\n",
        "\n",
        "total_row\n"
      ],
      "metadata": {
        "colab": {
          "base_uri": "https://localhost:8080/"
        },
        "id": "-4YQHYCgmqb2",
        "outputId": "5139fee9-8ddc-4f70-edef-0f71015724a7"
      },
      "execution_count": 473,
      "outputs": [
        {
          "output_type": "execute_result",
          "data": {
            "text/plain": [
              "[3.342948717948718, 2.6966966966966965]"
            ]
          },
          "metadata": {},
          "execution_count": 473
        }
      ]
    },
    {
      "cell_type": "code",
      "source": [
        "table_step_9 = pd.DataFrame(np.array([['Average time spent on a product pages of the “Tested brand”, sec', total_row[0].round(2), total_row[1].round(2)]]),\n",
        "                   columns=['', 'Experiment 1 - Price 19.99', 'Experiment 2 - Price 23.99']).style.hide_index()"
      ],
      "metadata": {
        "id": "uEoMYtvjm9Qt"
      },
      "execution_count": 474,
      "outputs": []
    },
    {
      "cell_type": "code",
      "source": [
        "table_step_9"
      ],
      "metadata": {
        "colab": {
          "base_uri": "https://localhost:8080/",
          "height": 81
        },
        "id": "096H7IInpduS",
        "outputId": "ad25fac9-1980-46c7-af23-23426c9872b3"
      },
      "execution_count": 475,
      "outputs": [
        {
          "output_type": "execute_result",
          "data": {
            "text/plain": [
              "<pandas.io.formats.style.Styler at 0x7ff8990c3b90>"
            ],
            "text/html": [
              "<style type=\"text/css\">\n",
              "</style>\n",
              "<table id=\"T_27356_\" class=\"dataframe\">\n",
              "  <thead>\n",
              "    <tr>\n",
              "      <th class=\"col_heading level0 col0\" ></th>\n",
              "      <th class=\"col_heading level0 col1\" >Experiment 1 - Price 19.99</th>\n",
              "      <th class=\"col_heading level0 col2\" >Experiment 2 - Price 23.99</th>\n",
              "    </tr>\n",
              "  </thead>\n",
              "  <tbody>\n",
              "    <tr>\n",
              "      <td id=\"T_27356_row0_col0\" class=\"data row0 col0\" >Average time spent on a product pages of the “Tested brand”, sec</td>\n",
              "      <td id=\"T_27356_row0_col1\" class=\"data row0 col1\" >3.34</td>\n",
              "      <td id=\"T_27356_row0_col2\" class=\"data row0 col2\" >2.7</td>\n",
              "    </tr>\n",
              "  </tbody>\n",
              "</table>\n"
            ]
          },
          "metadata": {},
          "execution_count": 475
        }
      ]
    }
  ]
}